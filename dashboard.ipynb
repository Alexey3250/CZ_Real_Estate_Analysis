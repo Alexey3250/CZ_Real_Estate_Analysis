{
 "cells": [
  {
   "cell_type": "code",
   "execution_count": 1,
   "metadata": {},
   "outputs": [
    {
     "data": {
      "application/vnd.jupyter.widget-view+json": {
       "model_id": "d2f37120fb6549869ca816e4f854ed6e",
       "version_major": 2,
       "version_minor": 0
      },
      "text/plain": [
       "interactive(children=(FloatSlider(value=151.38, description='Chosen Average Rate:', max=350.0, min=50.0, step=…"
      ]
     },
     "metadata": {},
     "output_type": "display_data"
    }
   ],
   "source": [
    "# @title Input the prediction for the average daily rate in $\n",
    "from ipywidgets import interact, widgets, interactive\n",
    "import pandas as pd\n",
    "import matplotlib.pyplot as plt\n",
    "from IPython.display import display, clear_output\n",
    "\n",
    "# Function to display the data source and the current average rate\n",
    "def display_info():\n",
    "    print(\"Data source: Data scraped for competitors from AirBnb and Slowhop.\")\n",
    "    print(f\"Current Average Rate: ${current_average_rate}\")\n",
    "\n",
    "# Pricing data scraped from Airbnb and Slowhop, combined\n",
    "price_data = [\n",
    "    180.6, 150.07, 95.546, 120.4, 189.2, 137.6, 129, 107.5,\n",
    "    180.6, 227.9, 98.9, 55, 62, 140, 181, 139, 105, 164, 50, 146,\n",
    "    133, 179, 244, 94, 151, 71, 91, 26, 206, 133, 139, 151, 151,\n",
    "    178, 293, 247, 174, 181, 156, 226, 124, 128, 174, 75, 229, 350\n",
    "]\n",
    "price_series = pd.Series(price_data)\n",
    "current_average_rate = round(price_series.mean(), 2)\n",
    "\n",
    "# Function to create the histogram and vertical line\n",
    "# Modified Function to create the histogram and vertical line considering principles from \"Storytelling with Data\"\n",
    "def plot_histogram_with_rates(chosen_average_rate):\n",
    "    clear_output(wait=True)\n",
    "\n",
    "    display_info()  # Display data source and current average rate\n",
    "    print(f\"Chosen Average Rate: ${chosen_average_rate}\")\n",
    "\n",
    "    plt.figure(figsize=(10,6))\n",
    "    plt.hist(price_data, bins=15, alpha=0.5, color='#249CFF', label='Scraped Prices')\n",
    "\n",
    "    # Current Average Rate line\n",
    "    plt.axvline(current_average_rate, color='k', linestyle='solid', linewidth=2, label=f'Current Average Rate: ${current_average_rate}')\n",
    "\n",
    "    # Chosen Average Rate line\n",
    "    plt.axvline(chosen_average_rate, color='r', linestyle='dashed', linewidth=2, label=f'Chosen Average Rate: ${chosen_average_rate}')\n",
    "\n",
    "    # Title and labels\n",
    "    plt.title('Distribution of Prices with Current and Chosen Average Rates', fontsize=16, pad=20)\n",
    "    plt.xlabel('Price in $', fontsize=14, labelpad=15)\n",
    "    plt.ylabel('Frequency', fontsize=14, labelpad=15)\n",
    "\n",
    "    # Eliminating top and right borders\n",
    "    plt.gca().spines['top'].set_visible(False)\n",
    "    plt.gca().spines['right'].set_visible(False)\n",
    "\n",
    "    # Use of text\n",
    "    plt.text(current_average_rate + 5, 5, f\"Current Avg Rate: ${current_average_rate}\", color='k')\n",
    "    plt.text(chosen_average_rate + 5, 4, f\"Chosen Avg Rate: ${chosen_average_rate}\", color='r')\n",
    "\n",
    "    # Legend\n",
    "    plt.legend(loc='upper right', fontsize=12)\n",
    "\n",
    "    # Show plot\n",
    "    plt.tight_layout()\n",
    "    plt.show()\n",
    "\n",
    "\n",
    "chosen_average_rate = current_average_rate\n",
    "\n",
    "# Create the slider widget for Chosen Average Rate\n",
    "chosen_average_rate_slider = widgets.FloatSlider(\n",
    "    value=current_average_rate,\n",
    "    min=50.0,\n",
    "    max=350.0,\n",
    "    step=5,\n",
    "    description='Chosen Average Rate:',\n",
    ")\n",
    "\n",
    "# Function to update the stored chosen_average_rate whenever the slider value changes\n",
    "def update_chosen_rate(change):\n",
    "    global chosen_average_rate\n",
    "    chosen_average_rate = change.new\n",
    "    print(f\"Updated chosen_average_rate: ${chosen_average_rate}\")\n",
    "\n",
    "# Attach the update function to the slider\n",
    "chosen_average_rate_slider.observe(update_chosen_rate, names='value')\n",
    "\n",
    "# Use interactive instead of interact\n",
    "w = interactive(plot_histogram_with_rates, chosen_average_rate=chosen_average_rate_slider)\n",
    "\n",
    "# Display the interactive plot\n",
    "display(w)\n",
    "\n"
   ]
  },
  {
   "cell_type": "code",
   "execution_count": 2,
   "metadata": {},
   "outputs": [
    {
     "data": {
      "application/vnd.jupyter.widget-view+json": {
       "model_id": "ae212b648ed642499780faca8208f337",
       "version_major": 2,
       "version_minor": 0
      },
      "text/plain": [
       "interactive(children=(FloatSlider(value=25000.0, description='Movable House:', max=80000.0, step=1000.0), Floa…"
      ]
     },
     "metadata": {},
     "output_type": "display_data"
    },
    {
     "data": {
      "text/plain": [
       "<function __main__.plot_charts(movable_house, transport, land_setup, additional_costs)>"
      ]
     },
     "execution_count": 2,
     "metadata": {},
     "output_type": "execute_result"
    }
   ],
   "source": [
    "# @title Total Initial Costs Breakdown\n",
    "from ipywidgets import interact, widgets\n",
    "from IPython.display import display, clear_output\n",
    "import matplotlib.pyplot as plt\n",
    "import numpy as np\n",
    "\n",
    "# Global variable to store initial expenses\n",
    "initial_expenses = 0.0\n",
    "\n",
    "# Function to display total initial costs prominently\n",
    "def display_total_initial_costs(total_costs):\n",
    "    global initial_expenses\n",
    "    initial_expenses = total_costs\n",
    "    print(f\"\\033[1mTotal Initial Costs: ${total_costs:.2f}\\033[0m\")  # Using bold for emphasis\n",
    "\n",
    "# Function to plot the charts\n",
    "def plot_charts(movable_house, transport, land_setup, additional_costs):\n",
    "    clear_output(wait=True)\n",
    "\n",
    "    # Calculate and display the total initial costs\n",
    "    total_costs = sum([movable_house, transport, land_setup, additional_costs])\n",
    "    display_total_initial_costs(total_costs)\n",
    "\n",
    "    # Data for charts\n",
    "    categories = ['Movable House', 'Transport', 'Land Setup', 'Additional Costs']\n",
    "    values = [round(movable_house), round(transport), round(land_setup), round(additional_costs)]\n",
    "    colors = ['#82C272', '#00A88F', '#0087AC', '#005FAA']\n",
    "\n",
    "    # Initialize the plots\n",
    "    fig, axs = plt.subplots(1, 3, figsize=(16, 6))\n",
    "\n",
    "    # Bar chart\n",
    "    bars = axs[0].barh(categories, values, color=colors)\n",
    "\n",
    "    # Annotate the bars with values\n",
    "    for i, val in enumerate(values):\n",
    "        if categories[i] == 'Movable House':  # Adjust this specific text to the left\n",
    "            axs[0].text(val - 7000, i, f\"${val:,.0f}\", va='center')\n",
    "        else:\n",
    "            axs[0].text(val + 500, i, f\"${val:,.0f}\", va='center')\n",
    "\n",
    "    # Hide x-axis and grid on bar chart\n",
    "    axs[0].xaxis.set_visible(False)\n",
    "    axs[0].grid(False)\n",
    "\n",
    "    # Donut chart\n",
    "    wedges, texts, autotexts = axs[1].pie(values, labels=categories, autopct=lambda p: f\"{p:.1f}%\" if p > 0 else '', startangle=90, pctdistance=0.85, wedgeprops=dict(width=0.3), colors=colors)\n",
    "\n",
    "    # Improve the text inside wedges\n",
    "    for autotext in autotexts:\n",
    "        autotext.set_fontsize(10)\n",
    "        autotext.set_horizontalalignment('center')\n",
    "\n",
    "    # Text-based chart for total costs\n",
    "    axs[2].text(0.5, 0.5, f\"Total Initial Costs:\\n${total_costs:,.2f}\", fontsize=24, ha='center', va='center')\n",
    "    axs[2].axis('off')  # Hide axes\n",
    "\n",
    "    # Show the plots\n",
    "    plt.show()\n",
    "\n",
    "# Create sliders for each category of initial expense\n",
    "movable_house_slider = widgets.FloatSlider(value=25000, min=0, max=80000, step=1000, description='Movable House:')\n",
    "transport_slider = widgets.FloatSlider(value=3000, min=0, max=50000, step=100, description='Transport & Installation:')\n",
    "land_setup_slider = widgets.FloatSlider(value=10000, min=0, max=50000, step=100, description='Land Setup:')\n",
    "additional_costs_slider = widgets.FloatSlider(value=5000, min=0, max=50000, step=100, description='Additional Costs:')\n",
    "\n",
    "# Link function to sliders and display them\n",
    "interact(plot_charts,\n",
    "         movable_house=movable_house_slider,\n",
    "         transport=transport_slider,\n",
    "         land_setup=land_setup_slider,\n",
    "         additional_costs=additional_costs_slider)\n"
   ]
  },
  {
   "cell_type": "markdown",
   "metadata": {},
   "source": [
    "# Calculating seasonality data"
   ]
  },
  {
   "cell_type": "code",
   "execution_count": 3,
   "metadata": {},
   "outputs": [],
   "source": [
    "import pandas as pd\n",
    "\n",
    "# data scraped from AirBnb in České Budějovice region\n",
    "occupancy_rates = [0.267, 0.357, 0.325, 0.487, 0.483, 0.594, 0.74, 0.708, 0.497, 0.562, 0.381, 0.493]\n",
    "months = ['Jan', 'Feb', 'Mar', 'Apr', 'May', 'Jun', 'Jul', 'Aug', 'Sep', 'Oct', 'Nov', 'Dec']\n",
    "\n",
    "# combined dataframe\n",
    "seasonal_occupancy = pd.DataFrame({'occupancy_rates': occupancy_rates, 'months': months})\n",
    "\n",
    "original_daily_rates = [2.9, 3, 3.4, 2.9, 2.8, 2.6, 2.7, 2.75, 2.73, 2.2, 2.1, 3.4]\n",
    "original_average_rate = 2.5\n",
    "\n",
    "\n",
    "current_daily_rates = [original_rate * (current_average_rate / original_average_rate) for original_rate in original_daily_rates]\n",
    "\n",
    "# Monthly revenue (current rates x days x occupancy)\n",
    "monthly_revenue = [current_daily_rates[i] * 30 * seasonal_occupancy['occupancy_rates'][i] for i in range(12)]\n",
    "# Monthly expenses\n",
    "operating_expenses = 0.3\n",
    "monthly_expenses = [operating_expenses * monthly_revenue[i] for i in range(12)]\n",
    "# Monthly net operating income\n",
    "monthly_net_operating_income = [monthly_revenue[i] - monthly_expenses[i] for i in range(12)]\n",
    "\n",
    "seasonal_rates = pd.DataFrame({\n",
    "    'daily_rates': current_daily_rates, \n",
    "    'months': months, \n",
    "    'monthly_revenue': monthly_revenue, \n",
    "    'monthly_expenses': monthly_expenses, \n",
    "    'monthly_net_operating_income': monthly_net_operating_income\n",
    "})\n",
    "\n",
    "# Округляем до целых чисел\n",
    "seasonal_rates['daily_rates'] = seasonal_rates['daily_rates'].round(0)\n",
    "seasonal_rates['monthly_revenue'] = seasonal_rates['monthly_revenue'].round(0)\n",
    "seasonal_rates['monthly_expenses'] = seasonal_rates['monthly_expenses'].round(0)\n",
    "seasonal_rates['monthly_net_operating_income'] = seasonal_rates['monthly_net_operating_income'].round(0)\n",
    "\n",
    "seasonality_df = pd.merge(seasonal_occupancy, seasonal_rates, on='months')\n",
    "# Set month as the index \n",
    "seasonality_df.set_index('months', inplace=True)\n",
    "\n",
    "Yearly_net_operating_income = sum(seasonality_df['monthly_net_operating_income'])\n",
    "initial_expenses = 50000\n",
    "yearly_ROI = round(Yearly_net_operating_income / initial_expenses, 2)\n",
    "breakeven_months = initial_expenses / (Yearly_net_operating_income / 12)\n",
    "\n",
    "average_occupancy = round(sum(seasonality_df['occupancy_rates']) / 12, 2)\n",
    "average_rate = round(sum(seasonality_df['daily_rates']) / 12, 2)\n"
   ]
  },
  {
   "cell_type": "code",
   "execution_count": 4,
   "metadata": {},
   "outputs": [
    {
     "data": {
      "application/vnd.jupyter.widget-view+json": {
       "model_id": "0b0bb96ef7a2410dac2a1823873151b4",
       "version_major": 2,
       "version_minor": 0
      },
      "text/plain": [
       "interactive(children=(FloatSlider(value=0.3, description='Op. Expenses (%)', max=1.0, step=0.01), Output()), _…"
      ]
     },
     "execution_count": 4,
     "metadata": {},
     "output_type": "execute_result"
    }
   ],
   "source": [
    "# @title Monthly net\n",
    "import pandas as pd\n",
    "import ipywidgets as widgets\n",
    "from IPython.display import display\n",
    "import matplotlib.pyplot as plt\n",
    "import matplotlib.gridspec as gridspec\n",
    "\n",
    "\n",
    "# Data\n",
    "# data scraped from AirBnb in České Budějovice region\n",
    "occupancy_rates = [0.267, 0.357, 0.325, 0.487, 0.483, 0.594, 0.74, 0.708, 0.497, 0.562, 0.381, 0.493]\n",
    "months = ['Jan', 'Feb', 'Mar', 'Apr', 'May', 'Jun', 'Jul', 'Aug', 'Sep', 'Oct', 'Nov', 'Dec']\n",
    "\n",
    "# combined dataframe\n",
    "seasonal_occupancy = pd.DataFrame({'occupancy_rates': occupancy_rates, 'months': months})\n",
    "\n",
    "original_daily_rates = [2.9, 3, 3.4, 2.9, 2.8, 2.6, 2.7, 2.75, 2.73, 2.2, 2.1, 3.4]\n",
    "original_average_rate = 2.5\n",
    "\n",
    "\n",
    "current_daily_rates = [original_rate * (chosen_average_rate / original_average_rate) for original_rate in original_daily_rates]\n",
    "\n",
    "# Monthly revenue (current rates x days x occupancy)\n",
    "monthly_revenue = [current_daily_rates[i] * 30 * seasonal_occupancy['occupancy_rates'][i] for i in range(12)]\n",
    "# Monthly expenses\n",
    "operating_expenses = 0.3\n",
    "monthly_expenses = [operating_expenses * monthly_revenue[i] for i in range(12)]\n",
    "# Monthly net operating income\n",
    "monthly_net_operating_income = [monthly_revenue[i] - monthly_expenses[i] for i in range(12)]\n",
    "\n",
    "seasonal_rates = pd.DataFrame({\n",
    "    'daily_rates': current_daily_rates,\n",
    "    'months': months,\n",
    "    'monthly_revenue': monthly_revenue,\n",
    "    'monthly_expenses': monthly_expenses,\n",
    "    'monthly_net_operating_income': monthly_net_operating_income\n",
    "})\n",
    "\n",
    "# Округляем до целых чисел\n",
    "seasonal_rates['daily_rates'] = seasonal_rates['daily_rates'].round(0)\n",
    "seasonal_rates['monthly_revenue'] = seasonal_rates['monthly_revenue'].round(0)\n",
    "seasonal_rates['monthly_expenses'] = seasonal_rates['monthly_expenses'].round(0)\n",
    "seasonal_rates['monthly_net_operating_income'] = seasonal_rates['monthly_net_operating_income'].round(0)\n",
    "\n",
    "seasonality_df = pd.merge(seasonal_occupancy, seasonal_rates, on='months')\n",
    "# Set month as the index\n",
    "seasonality_df.set_index('months', inplace=True)\n",
    "\n",
    "Yearly_net_operating_income = sum(seasonality_df['monthly_net_operating_income'])\n",
    "initial_expenses = 50000\n",
    "yearly_ROI = round(Yearly_net_operating_income / initial_expenses, 2)\n",
    "breakeven_months = initial_expenses / (Yearly_net_operating_income / 12)\n",
    "\n",
    "average_occupancy = round(sum(seasonality_df['occupancy_rates']) / 12, 2)\n",
    "average_rate = round(sum(seasonality_df['daily_rates']) / 12, 2)\n",
    "\n",
    "# Function to compute and visualize the values based on operating_expenses\n",
    "def visualize_values(operating_expenses):\n",
    "    # Adjusting the original rates\n",
    "    current_daily_rates = [original_rate * (chosen_average_rate / original_average_rate) for original_rate in original_daily_rates]\n",
    "\n",
    "    # Monthly Revenue, Expenses, and Net Operating Income\n",
    "    monthly_revenue = [current_daily_rates[i] * 30 * seasonal_occupancy['occupancy_rates'][i] for i in range(12)]\n",
    "    monthly_expenses = [operating_expenses * monthly_revenue[i] for i in range(12)]\n",
    "    monthly_net_operating_income = [monthly_revenue[i] - monthly_expenses[i] for i in range(12)]\n",
    "\n",
    "    # Results\n",
    "    yearly_net_operating_income = round(sum(monthly_net_operating_income))\n",
    "    yearly_ROI = yearly_net_operating_income / initial_expenses\n",
    "    breakeven_months = round(initial_expenses / (yearly_net_operating_income / 12))\n",
    "    breakeven_years = round(breakeven_months / 12)\n",
    "    average_occupancy = sum(seasonal_occupancy['occupancy_rates']) / 12\n",
    "    average_rate = sum(current_daily_rates) / 12\n",
    "\n",
    "    # Printing results\n",
    "    print(f\"Operating Expenses (%): {operating_expenses * 100}\")\n",
    "    print(f\"Average Occupancy: {round(average_occupancy, 2)}\")\n",
    "    print(f\"Average Rate ($): {round(average_rate, 2)}\")\n",
    "    print(f\"Yearly Revenue ($): {sum(monthly_revenue)}\")\n",
    "    print(f\"Yearly Net Operating Income ($): {yearly_net_operating_income}\")\n",
    "    print(f\"Yearly ROI (%): {round(yearly_ROI * 100, 2)}\")\n",
    "    print(f\"Breakeven Time (months): {breakeven_months}\")\n",
    "    print(f\"Breakeven Time (years): {breakeven_years}\")\n",
    "    \n",
    "\n",
    "\n",
    "    # Set up the main figure and gridspec\n",
    "    fig = plt.figure(figsize=(16, 6))\n",
    "    gs = gridspec.GridSpec(1, 3, width_ratios=[6, 1, 1])  # Create 3 columns with specified ratios\n",
    "\n",
    "\n",
    "    # Main bar chart for Monthly Net Operating Income and Expenses\n",
    "    ax1 = fig.add_subplot(gs[0])\n",
    "    ax1.bar(months, monthly_net_operating_income, color='#0081e7', label='Monthly Net Operating Income')\n",
    "    ax1.bar(months, monthly_expenses, color='#ea8535', label='Monthly Expenses')\n",
    "    ax1.set_xlabel(\"Months\", fontsize=14)\n",
    "    ax1.set_ylabel(\"Amount ($)\", fontsize=14)\n",
    "    ax1.set_title(\"Monthly Net Operating Income & Expenses\", fontsize=16)\n",
    "    ax1.legend(loc='upper right')\n",
    "    ax1.spines['top'].set_visible(False)\n",
    "    ax1.spines['right'].set_visible(False)\n",
    "    ax1.yaxis.grid(True, linestyle='--', which='major', color='grey', alpha=.25)\n",
    "    ax1.xaxis.grid(False)\n",
    "\n",
    "    # Text-based chart for Yearly ROI %\n",
    "    ax2 = fig.add_subplot(gs[1])\n",
    "    ax2.text(0.5, 0.5, f\"Yearly ROI:\\n{yearly_ROI * 100:.2f}%\", fontsize=24, ha='center', va='center')\n",
    "    ax2.axis('off')  # Hide axes\n",
    "\n",
    "    # Text-based chart for Breakeven Time (years)\n",
    "    ax3 = fig.add_subplot(gs[2])\n",
    "    ax3.text(0.5, 0.5, f\"Breakeven Time:\\n{breakeven_years} years\", fontsize=24, ha='center', va='center')\n",
    "    ax3.axis('off')  # Hide axes\n",
    "\n",
    "    plt.tight_layout()\n",
    "    plt.show()\n",
    "\n",
    "# Interactive Slider\n",
    "widgets.interactive(visualize_values, operating_expenses=widgets.FloatSlider(value=0.3, min=0, max=1, step=0.01, description='Op. Expenses (%)'))\n"
   ]
  },
  {
   "cell_type": "code",
   "execution_count": 5,
   "metadata": {},
   "outputs": [
    {
     "data": {
      "text/plain": [
       "[175.6008,\n",
       " 181.656,\n",
       " 205.8768,\n",
       " 175.6008,\n",
       " 169.54559999999998,\n",
       " 157.4352,\n",
       " 163.49040000000002,\n",
       " 166.518,\n",
       " 165.30696,\n",
       " 133.2144,\n",
       " 127.1592,\n",
       " 205.8768]"
      ]
     },
     "execution_count": 5,
     "metadata": {},
     "output_type": "execute_result"
    }
   ],
   "source": [
    "current_daily_rates"
   ]
  },
  {
   "cell_type": "code",
   "execution_count": 6,
   "metadata": {},
   "outputs": [
    {
     "data": {
      "application/vnd.plotly.v1+json": {
       "config": {
        "plotlyServerURL": "https://plot.ly"
       },
       "data": [
        {
         "line": {
          "color": "magenta",
          "width": 3
         },
         "mode": "lines",
         "name": "Occupancy Rate",
         "showlegend": false,
         "type": "scatter",
         "x": [
          "Jan",
          "Feb",
          "Mar",
          "Apr",
          "May",
          "Jun",
          "Jul",
          "Aug",
          "Sep",
          "Oct",
          "Nov",
          "Dec"
         ],
         "xaxis": "x",
         "y": [
          0.267,
          0.357,
          0.325,
          0.487,
          0.483,
          0.594,
          0.74,
          0.708,
          0.497,
          0.562,
          0.381,
          0.493
         ],
         "yaxis": "y"
        },
        {
         "line": {
          "color": "cyan",
          "width": 3
         },
         "mode": "lines",
         "name": "Daily Rates",
         "showlegend": false,
         "type": "scatter",
         "x": [
          "Jan",
          "Feb",
          "Mar",
          "Apr",
          "May",
          "Jun",
          "Jul",
          "Aug",
          "Sep",
          "Oct",
          "Nov",
          "Dec"
         ],
         "xaxis": "x2",
         "y": [
          176,
          182,
          206,
          176,
          170,
          157,
          163,
          167,
          165,
          133,
          127,
          206
         ],
         "yaxis": "y2"
        }
       ],
       "layout": {
        "annotations": [
         {
          "font": {
           "size": 19
          },
          "showarrow": false,
          "text": "Average occupancy rate: 49.00%",
          "x": 0.13,
          "xref": "paper",
          "y": 1.18,
          "yref": "paper"
         },
         {
          "font": {
           "size": 19
          },
          "showarrow": false,
          "text": "Average daily rate: $169.00",
          "x": 0.85,
          "xref": "paper",
          "y": 1.18,
          "yref": "paper"
         }
        ],
        "font": {
         "family": "Open Sans, sans-serif"
        },
        "paper_bgcolor": "white",
        "plot_bgcolor": "white",
        "template": {
         "data": {
          "bar": [
           {
            "error_x": {
             "color": "#2a3f5f"
            },
            "error_y": {
             "color": "#2a3f5f"
            },
            "marker": {
             "line": {
              "color": "#E5ECF6",
              "width": 0.5
             },
             "pattern": {
              "fillmode": "overlay",
              "size": 10,
              "solidity": 0.2
             }
            },
            "type": "bar"
           }
          ],
          "barpolar": [
           {
            "marker": {
             "line": {
              "color": "#E5ECF6",
              "width": 0.5
             },
             "pattern": {
              "fillmode": "overlay",
              "size": 10,
              "solidity": 0.2
             }
            },
            "type": "barpolar"
           }
          ],
          "carpet": [
           {
            "aaxis": {
             "endlinecolor": "#2a3f5f",
             "gridcolor": "white",
             "linecolor": "white",
             "minorgridcolor": "white",
             "startlinecolor": "#2a3f5f"
            },
            "baxis": {
             "endlinecolor": "#2a3f5f",
             "gridcolor": "white",
             "linecolor": "white",
             "minorgridcolor": "white",
             "startlinecolor": "#2a3f5f"
            },
            "type": "carpet"
           }
          ],
          "choropleth": [
           {
            "colorbar": {
             "outlinewidth": 0,
             "ticks": ""
            },
            "type": "choropleth"
           }
          ],
          "contour": [
           {
            "colorbar": {
             "outlinewidth": 0,
             "ticks": ""
            },
            "colorscale": [
             [
              0,
              "#0d0887"
             ],
             [
              0.1111111111111111,
              "#46039f"
             ],
             [
              0.2222222222222222,
              "#7201a8"
             ],
             [
              0.3333333333333333,
              "#9c179e"
             ],
             [
              0.4444444444444444,
              "#bd3786"
             ],
             [
              0.5555555555555556,
              "#d8576b"
             ],
             [
              0.6666666666666666,
              "#ed7953"
             ],
             [
              0.7777777777777778,
              "#fb9f3a"
             ],
             [
              0.8888888888888888,
              "#fdca26"
             ],
             [
              1,
              "#f0f921"
             ]
            ],
            "type": "contour"
           }
          ],
          "contourcarpet": [
           {
            "colorbar": {
             "outlinewidth": 0,
             "ticks": ""
            },
            "type": "contourcarpet"
           }
          ],
          "heatmap": [
           {
            "colorbar": {
             "outlinewidth": 0,
             "ticks": ""
            },
            "colorscale": [
             [
              0,
              "#0d0887"
             ],
             [
              0.1111111111111111,
              "#46039f"
             ],
             [
              0.2222222222222222,
              "#7201a8"
             ],
             [
              0.3333333333333333,
              "#9c179e"
             ],
             [
              0.4444444444444444,
              "#bd3786"
             ],
             [
              0.5555555555555556,
              "#d8576b"
             ],
             [
              0.6666666666666666,
              "#ed7953"
             ],
             [
              0.7777777777777778,
              "#fb9f3a"
             ],
             [
              0.8888888888888888,
              "#fdca26"
             ],
             [
              1,
              "#f0f921"
             ]
            ],
            "type": "heatmap"
           }
          ],
          "heatmapgl": [
           {
            "colorbar": {
             "outlinewidth": 0,
             "ticks": ""
            },
            "colorscale": [
             [
              0,
              "#0d0887"
             ],
             [
              0.1111111111111111,
              "#46039f"
             ],
             [
              0.2222222222222222,
              "#7201a8"
             ],
             [
              0.3333333333333333,
              "#9c179e"
             ],
             [
              0.4444444444444444,
              "#bd3786"
             ],
             [
              0.5555555555555556,
              "#d8576b"
             ],
             [
              0.6666666666666666,
              "#ed7953"
             ],
             [
              0.7777777777777778,
              "#fb9f3a"
             ],
             [
              0.8888888888888888,
              "#fdca26"
             ],
             [
              1,
              "#f0f921"
             ]
            ],
            "type": "heatmapgl"
           }
          ],
          "histogram": [
           {
            "marker": {
             "pattern": {
              "fillmode": "overlay",
              "size": 10,
              "solidity": 0.2
             }
            },
            "type": "histogram"
           }
          ],
          "histogram2d": [
           {
            "colorbar": {
             "outlinewidth": 0,
             "ticks": ""
            },
            "colorscale": [
             [
              0,
              "#0d0887"
             ],
             [
              0.1111111111111111,
              "#46039f"
             ],
             [
              0.2222222222222222,
              "#7201a8"
             ],
             [
              0.3333333333333333,
              "#9c179e"
             ],
             [
              0.4444444444444444,
              "#bd3786"
             ],
             [
              0.5555555555555556,
              "#d8576b"
             ],
             [
              0.6666666666666666,
              "#ed7953"
             ],
             [
              0.7777777777777778,
              "#fb9f3a"
             ],
             [
              0.8888888888888888,
              "#fdca26"
             ],
             [
              1,
              "#f0f921"
             ]
            ],
            "type": "histogram2d"
           }
          ],
          "histogram2dcontour": [
           {
            "colorbar": {
             "outlinewidth": 0,
             "ticks": ""
            },
            "colorscale": [
             [
              0,
              "#0d0887"
             ],
             [
              0.1111111111111111,
              "#46039f"
             ],
             [
              0.2222222222222222,
              "#7201a8"
             ],
             [
              0.3333333333333333,
              "#9c179e"
             ],
             [
              0.4444444444444444,
              "#bd3786"
             ],
             [
              0.5555555555555556,
              "#d8576b"
             ],
             [
              0.6666666666666666,
              "#ed7953"
             ],
             [
              0.7777777777777778,
              "#fb9f3a"
             ],
             [
              0.8888888888888888,
              "#fdca26"
             ],
             [
              1,
              "#f0f921"
             ]
            ],
            "type": "histogram2dcontour"
           }
          ],
          "mesh3d": [
           {
            "colorbar": {
             "outlinewidth": 0,
             "ticks": ""
            },
            "type": "mesh3d"
           }
          ],
          "parcoords": [
           {
            "line": {
             "colorbar": {
              "outlinewidth": 0,
              "ticks": ""
             }
            },
            "type": "parcoords"
           }
          ],
          "pie": [
           {
            "automargin": true,
            "type": "pie"
           }
          ],
          "scatter": [
           {
            "fillpattern": {
             "fillmode": "overlay",
             "size": 10,
             "solidity": 0.2
            },
            "type": "scatter"
           }
          ],
          "scatter3d": [
           {
            "line": {
             "colorbar": {
              "outlinewidth": 0,
              "ticks": ""
             }
            },
            "marker": {
             "colorbar": {
              "outlinewidth": 0,
              "ticks": ""
             }
            },
            "type": "scatter3d"
           }
          ],
          "scattercarpet": [
           {
            "marker": {
             "colorbar": {
              "outlinewidth": 0,
              "ticks": ""
             }
            },
            "type": "scattercarpet"
           }
          ],
          "scattergeo": [
           {
            "marker": {
             "colorbar": {
              "outlinewidth": 0,
              "ticks": ""
             }
            },
            "type": "scattergeo"
           }
          ],
          "scattergl": [
           {
            "marker": {
             "colorbar": {
              "outlinewidth": 0,
              "ticks": ""
             }
            },
            "type": "scattergl"
           }
          ],
          "scattermapbox": [
           {
            "marker": {
             "colorbar": {
              "outlinewidth": 0,
              "ticks": ""
             }
            },
            "type": "scattermapbox"
           }
          ],
          "scatterpolar": [
           {
            "marker": {
             "colorbar": {
              "outlinewidth": 0,
              "ticks": ""
             }
            },
            "type": "scatterpolar"
           }
          ],
          "scatterpolargl": [
           {
            "marker": {
             "colorbar": {
              "outlinewidth": 0,
              "ticks": ""
             }
            },
            "type": "scatterpolargl"
           }
          ],
          "scatterternary": [
           {
            "marker": {
             "colorbar": {
              "outlinewidth": 0,
              "ticks": ""
             }
            },
            "type": "scatterternary"
           }
          ],
          "surface": [
           {
            "colorbar": {
             "outlinewidth": 0,
             "ticks": ""
            },
            "colorscale": [
             [
              0,
              "#0d0887"
             ],
             [
              0.1111111111111111,
              "#46039f"
             ],
             [
              0.2222222222222222,
              "#7201a8"
             ],
             [
              0.3333333333333333,
              "#9c179e"
             ],
             [
              0.4444444444444444,
              "#bd3786"
             ],
             [
              0.5555555555555556,
              "#d8576b"
             ],
             [
              0.6666666666666666,
              "#ed7953"
             ],
             [
              0.7777777777777778,
              "#fb9f3a"
             ],
             [
              0.8888888888888888,
              "#fdca26"
             ],
             [
              1,
              "#f0f921"
             ]
            ],
            "type": "surface"
           }
          ],
          "table": [
           {
            "cells": {
             "fill": {
              "color": "#EBF0F8"
             },
             "line": {
              "color": "white"
             }
            },
            "header": {
             "fill": {
              "color": "#C8D4E3"
             },
             "line": {
              "color": "white"
             }
            },
            "type": "table"
           }
          ]
         },
         "layout": {
          "annotationdefaults": {
           "arrowcolor": "#2a3f5f",
           "arrowhead": 0,
           "arrowwidth": 1
          },
          "autotypenumbers": "strict",
          "coloraxis": {
           "colorbar": {
            "outlinewidth": 0,
            "ticks": ""
           }
          },
          "colorscale": {
           "diverging": [
            [
             0,
             "#8e0152"
            ],
            [
             0.1,
             "#c51b7d"
            ],
            [
             0.2,
             "#de77ae"
            ],
            [
             0.3,
             "#f1b6da"
            ],
            [
             0.4,
             "#fde0ef"
            ],
            [
             0.5,
             "#f7f7f7"
            ],
            [
             0.6,
             "#e6f5d0"
            ],
            [
             0.7,
             "#b8e186"
            ],
            [
             0.8,
             "#7fbc41"
            ],
            [
             0.9,
             "#4d9221"
            ],
            [
             1,
             "#276419"
            ]
           ],
           "sequential": [
            [
             0,
             "#0d0887"
            ],
            [
             0.1111111111111111,
             "#46039f"
            ],
            [
             0.2222222222222222,
             "#7201a8"
            ],
            [
             0.3333333333333333,
             "#9c179e"
            ],
            [
             0.4444444444444444,
             "#bd3786"
            ],
            [
             0.5555555555555556,
             "#d8576b"
            ],
            [
             0.6666666666666666,
             "#ed7953"
            ],
            [
             0.7777777777777778,
             "#fb9f3a"
            ],
            [
             0.8888888888888888,
             "#fdca26"
            ],
            [
             1,
             "#f0f921"
            ]
           ],
           "sequentialminus": [
            [
             0,
             "#0d0887"
            ],
            [
             0.1111111111111111,
             "#46039f"
            ],
            [
             0.2222222222222222,
             "#7201a8"
            ],
            [
             0.3333333333333333,
             "#9c179e"
            ],
            [
             0.4444444444444444,
             "#bd3786"
            ],
            [
             0.5555555555555556,
             "#d8576b"
            ],
            [
             0.6666666666666666,
             "#ed7953"
            ],
            [
             0.7777777777777778,
             "#fb9f3a"
            ],
            [
             0.8888888888888888,
             "#fdca26"
            ],
            [
             1,
             "#f0f921"
            ]
           ]
          },
          "colorway": [
           "#636efa",
           "#EF553B",
           "#00cc96",
           "#ab63fa",
           "#FFA15A",
           "#19d3f3",
           "#FF6692",
           "#B6E880",
           "#FF97FF",
           "#FECB52"
          ],
          "font": {
           "color": "#2a3f5f"
          },
          "geo": {
           "bgcolor": "white",
           "lakecolor": "white",
           "landcolor": "#E5ECF6",
           "showlakes": true,
           "showland": true,
           "subunitcolor": "white"
          },
          "hoverlabel": {
           "align": "left"
          },
          "hovermode": "closest",
          "mapbox": {
           "style": "light"
          },
          "paper_bgcolor": "white",
          "plot_bgcolor": "#E5ECF6",
          "polar": {
           "angularaxis": {
            "gridcolor": "white",
            "linecolor": "white",
            "ticks": ""
           },
           "bgcolor": "#E5ECF6",
           "radialaxis": {
            "gridcolor": "white",
            "linecolor": "white",
            "ticks": ""
           }
          },
          "scene": {
           "xaxis": {
            "backgroundcolor": "#E5ECF6",
            "gridcolor": "white",
            "gridwidth": 2,
            "linecolor": "white",
            "showbackground": true,
            "ticks": "",
            "zerolinecolor": "white"
           },
           "yaxis": {
            "backgroundcolor": "#E5ECF6",
            "gridcolor": "white",
            "gridwidth": 2,
            "linecolor": "white",
            "showbackground": true,
            "ticks": "",
            "zerolinecolor": "white"
           },
           "zaxis": {
            "backgroundcolor": "#E5ECF6",
            "gridcolor": "white",
            "gridwidth": 2,
            "linecolor": "white",
            "showbackground": true,
            "ticks": "",
            "zerolinecolor": "white"
           }
          },
          "shapedefaults": {
           "line": {
            "color": "#2a3f5f"
           }
          },
          "ternary": {
           "aaxis": {
            "gridcolor": "white",
            "linecolor": "white",
            "ticks": ""
           },
           "baxis": {
            "gridcolor": "white",
            "linecolor": "white",
            "ticks": ""
           },
           "bgcolor": "#E5ECF6",
           "caxis": {
            "gridcolor": "white",
            "linecolor": "white",
            "ticks": ""
           }
          },
          "title": {
           "x": 0.05
          },
          "xaxis": {
           "automargin": true,
           "gridcolor": "white",
           "linecolor": "white",
           "ticks": "",
           "title": {
            "standoff": 15
           },
           "zerolinecolor": "white",
           "zerolinewidth": 2
          },
          "yaxis": {
           "automargin": true,
           "gridcolor": "white",
           "linecolor": "white",
           "ticks": "",
           "title": {
            "standoff": 15
           },
           "zerolinecolor": "white",
           "zerolinewidth": 2
          }
         }
        },
        "title": {
         "font": {
          "family": "Open Sans, sans-serif",
          "size": 54
         }
        },
        "xaxis": {
         "anchor": "y",
         "domain": [
          0,
          0.45
         ],
         "title": {
          "text": "Month"
         }
        },
        "xaxis2": {
         "anchor": "y2",
         "domain": [
          0.55,
          1
         ],
         "title": {
          "text": "Month"
         }
        },
        "yaxis": {
         "anchor": "x",
         "domain": [
          0,
          1
         ],
         "tickformat": ".0%",
         "title": {
          "text": "Occupancy Rate (%)"
         }
        },
        "yaxis2": {
         "anchor": "x2",
         "domain": [
          0,
          1
         ],
         "tickprefix": "$",
         "title": {
          "text": "Daily Rates ($)"
         }
        }
       }
      }
     },
     "metadata": {},
     "output_type": "display_data"
    }
   ],
   "source": [
    "# Импорт необходимых библиотек (Importing necessary libraries)\n",
    "import plotly.graph_objects as go\n",
    "import plotly.subplots as sp\n",
    "\n",
    "# Создание сабплотов (Creating subplots)\n",
    "fig = sp.make_subplots(rows=1, cols=2)\n",
    "\n",
    "# График занятости (Occupancy Rate Plot)\n",
    "fig.add_trace(\n",
    "    go.Scatter(\n",
    "        x=seasonality_df.index, \n",
    "        y=seasonality_df['occupancy_rates'], \n",
    "        mode='lines', \n",
    "        line=dict(color='magenta', width=3),\n",
    "        name='Occupancy Rate',\n",
    "        showlegend=False\n",
    "    ),\n",
    "    row=1, \n",
    "    col=1\n",
    ")\n",
    "\n",
    "# График дневных ставок (Daily Rates Plot)\n",
    "fig.add_trace(\n",
    "    go.Scatter(\n",
    "        x=seasonality_df.index, \n",
    "        y=seasonality_df['daily_rates'], \n",
    "        mode='lines', \n",
    "        line=dict(color='cyan', width=3),\n",
    "        name='Daily Rates',\n",
    "        showlegend=False\n",
    "    ),\n",
    "    row=1, \n",
    "    col=2\n",
    ")\n",
    "\n",
    "# Настройка параметров графиков (Adjusting plot parameters)\n",
    "fig.update_layout(\n",
    "    title_font=dict(size=54, family=\"Open Sans, sans-serif\"), # Изменяем шрифт на Open Sans\n",
    "    font=dict(family=\"Open Sans, sans-serif\"),\n",
    "    plot_bgcolor='white', # Установка белого фона\n",
    "    paper_bgcolor='white'\n",
    ")\n",
    "\n",
    "# Установка заголовка и других параметров для графика занятости (Setting title and other parameters for Occupancy Rate Plot)\n",
    "fig.update_xaxes(title_text=\"Month\", row=1, col=1)\n",
    "fig.update_yaxes(title_text=\"Occupancy Rate (%)\", tickformat='.0%', row=1, col=1)\n",
    "fig.add_annotation(text=f\"Average occupancy rate: {average_occupancy:.2%}\", xref=\"paper\", yref=\"paper\", x=0.13, y=1.18, font=dict(size=19), showarrow=False)\n",
    "\n",
    "# Установка заголовка и других параметров для графика дневных ставок (Setting title and other parameters for Daily Rates Plot)\n",
    "fig.update_xaxes(title_text=\"Month\", row=1, col=2)\n",
    "fig.update_yaxes(title_text=\"Daily Rates ($)\", tickprefix=\"$\", row=1, col=2)\n",
    "fig.add_annotation(text=f\"Average daily rate: ${average_rate:.2f}\", xref=\"paper\", yref=\"paper\", x=0.85, y=1.18, font=dict(size=19), showarrow=False)\n",
    "\n",
    "fig.show()\n"
   ]
  },
  {
   "cell_type": "code",
   "execution_count": 7,
   "metadata": {},
   "outputs": [
    {
     "data": {
      "application/vnd.plotly.v1+json": {
       "config": {
        "plotlyServerURL": "https://plot.ly"
       },
       "data": [
        {
         "line": {
          "color": "magenta",
          "width": 4
         },
         "mode": "lines",
         "name": "Occupancy Rate",
         "showlegend": false,
         "type": "scatter",
         "x": [
          "Jan",
          "Feb",
          "Mar",
          "Apr",
          "May",
          "Jun",
          "Jul",
          "Aug",
          "Sep",
          "Oct",
          "Nov",
          "Dec"
         ],
         "xaxis": "x",
         "y": [
          0.267,
          0.357,
          0.325,
          0.487,
          0.483,
          0.594,
          0.74,
          0.708,
          0.497,
          0.562,
          0.381,
          0.493
         ],
         "yaxis": "y"
        },
        {
         "line": {
          "color": "cyan",
          "width": 4
         },
         "mode": "lines",
         "name": "Daily Rates",
         "showlegend": false,
         "type": "scatter",
         "x": [
          "Jan",
          "Feb",
          "Mar",
          "Apr",
          "May",
          "Jun",
          "Jul",
          "Aug",
          "Sep",
          "Oct",
          "Nov",
          "Dec"
         ],
         "xaxis": "x2",
         "y": [
          176,
          182,
          206,
          176,
          170,
          157,
          163,
          167,
          165,
          133,
          127,
          206
         ],
         "yaxis": "y2"
        }
       ],
       "layout": {
        "annotations": [
         {
          "font": {
           "size": 25
          },
          "showarrow": false,
          "text": "Average occupancy rate: 49.00%",
          "x": 0.11,
          "xref": "paper",
          "y": 1.18,
          "yref": "paper"
         },
         {
          "font": {
           "size": 25
          },
          "showarrow": false,
          "text": "Average daily rate: $169.00",
          "x": 0.87,
          "xref": "paper",
          "y": 1.18,
          "yref": "paper"
         }
        ],
        "paper_bgcolor": "white",
        "plot_bgcolor": "white",
        "template": {
         "data": {
          "bar": [
           {
            "error_x": {
             "color": "#2a3f5f"
            },
            "error_y": {
             "color": "#2a3f5f"
            },
            "marker": {
             "line": {
              "color": "#E5ECF6",
              "width": 0.5
             },
             "pattern": {
              "fillmode": "overlay",
              "size": 10,
              "solidity": 0.2
             }
            },
            "type": "bar"
           }
          ],
          "barpolar": [
           {
            "marker": {
             "line": {
              "color": "#E5ECF6",
              "width": 0.5
             },
             "pattern": {
              "fillmode": "overlay",
              "size": 10,
              "solidity": 0.2
             }
            },
            "type": "barpolar"
           }
          ],
          "carpet": [
           {
            "aaxis": {
             "endlinecolor": "#2a3f5f",
             "gridcolor": "white",
             "linecolor": "white",
             "minorgridcolor": "white",
             "startlinecolor": "#2a3f5f"
            },
            "baxis": {
             "endlinecolor": "#2a3f5f",
             "gridcolor": "white",
             "linecolor": "white",
             "minorgridcolor": "white",
             "startlinecolor": "#2a3f5f"
            },
            "type": "carpet"
           }
          ],
          "choropleth": [
           {
            "colorbar": {
             "outlinewidth": 0,
             "ticks": ""
            },
            "type": "choropleth"
           }
          ],
          "contour": [
           {
            "colorbar": {
             "outlinewidth": 0,
             "ticks": ""
            },
            "colorscale": [
             [
              0,
              "#0d0887"
             ],
             [
              0.1111111111111111,
              "#46039f"
             ],
             [
              0.2222222222222222,
              "#7201a8"
             ],
             [
              0.3333333333333333,
              "#9c179e"
             ],
             [
              0.4444444444444444,
              "#bd3786"
             ],
             [
              0.5555555555555556,
              "#d8576b"
             ],
             [
              0.6666666666666666,
              "#ed7953"
             ],
             [
              0.7777777777777778,
              "#fb9f3a"
             ],
             [
              0.8888888888888888,
              "#fdca26"
             ],
             [
              1,
              "#f0f921"
             ]
            ],
            "type": "contour"
           }
          ],
          "contourcarpet": [
           {
            "colorbar": {
             "outlinewidth": 0,
             "ticks": ""
            },
            "type": "contourcarpet"
           }
          ],
          "heatmap": [
           {
            "colorbar": {
             "outlinewidth": 0,
             "ticks": ""
            },
            "colorscale": [
             [
              0,
              "#0d0887"
             ],
             [
              0.1111111111111111,
              "#46039f"
             ],
             [
              0.2222222222222222,
              "#7201a8"
             ],
             [
              0.3333333333333333,
              "#9c179e"
             ],
             [
              0.4444444444444444,
              "#bd3786"
             ],
             [
              0.5555555555555556,
              "#d8576b"
             ],
             [
              0.6666666666666666,
              "#ed7953"
             ],
             [
              0.7777777777777778,
              "#fb9f3a"
             ],
             [
              0.8888888888888888,
              "#fdca26"
             ],
             [
              1,
              "#f0f921"
             ]
            ],
            "type": "heatmap"
           }
          ],
          "heatmapgl": [
           {
            "colorbar": {
             "outlinewidth": 0,
             "ticks": ""
            },
            "colorscale": [
             [
              0,
              "#0d0887"
             ],
             [
              0.1111111111111111,
              "#46039f"
             ],
             [
              0.2222222222222222,
              "#7201a8"
             ],
             [
              0.3333333333333333,
              "#9c179e"
             ],
             [
              0.4444444444444444,
              "#bd3786"
             ],
             [
              0.5555555555555556,
              "#d8576b"
             ],
             [
              0.6666666666666666,
              "#ed7953"
             ],
             [
              0.7777777777777778,
              "#fb9f3a"
             ],
             [
              0.8888888888888888,
              "#fdca26"
             ],
             [
              1,
              "#f0f921"
             ]
            ],
            "type": "heatmapgl"
           }
          ],
          "histogram": [
           {
            "marker": {
             "pattern": {
              "fillmode": "overlay",
              "size": 10,
              "solidity": 0.2
             }
            },
            "type": "histogram"
           }
          ],
          "histogram2d": [
           {
            "colorbar": {
             "outlinewidth": 0,
             "ticks": ""
            },
            "colorscale": [
             [
              0,
              "#0d0887"
             ],
             [
              0.1111111111111111,
              "#46039f"
             ],
             [
              0.2222222222222222,
              "#7201a8"
             ],
             [
              0.3333333333333333,
              "#9c179e"
             ],
             [
              0.4444444444444444,
              "#bd3786"
             ],
             [
              0.5555555555555556,
              "#d8576b"
             ],
             [
              0.6666666666666666,
              "#ed7953"
             ],
             [
              0.7777777777777778,
              "#fb9f3a"
             ],
             [
              0.8888888888888888,
              "#fdca26"
             ],
             [
              1,
              "#f0f921"
             ]
            ],
            "type": "histogram2d"
           }
          ],
          "histogram2dcontour": [
           {
            "colorbar": {
             "outlinewidth": 0,
             "ticks": ""
            },
            "colorscale": [
             [
              0,
              "#0d0887"
             ],
             [
              0.1111111111111111,
              "#46039f"
             ],
             [
              0.2222222222222222,
              "#7201a8"
             ],
             [
              0.3333333333333333,
              "#9c179e"
             ],
             [
              0.4444444444444444,
              "#bd3786"
             ],
             [
              0.5555555555555556,
              "#d8576b"
             ],
             [
              0.6666666666666666,
              "#ed7953"
             ],
             [
              0.7777777777777778,
              "#fb9f3a"
             ],
             [
              0.8888888888888888,
              "#fdca26"
             ],
             [
              1,
              "#f0f921"
             ]
            ],
            "type": "histogram2dcontour"
           }
          ],
          "mesh3d": [
           {
            "colorbar": {
             "outlinewidth": 0,
             "ticks": ""
            },
            "type": "mesh3d"
           }
          ],
          "parcoords": [
           {
            "line": {
             "colorbar": {
              "outlinewidth": 0,
              "ticks": ""
             }
            },
            "type": "parcoords"
           }
          ],
          "pie": [
           {
            "automargin": true,
            "type": "pie"
           }
          ],
          "scatter": [
           {
            "fillpattern": {
             "fillmode": "overlay",
             "size": 10,
             "solidity": 0.2
            },
            "type": "scatter"
           }
          ],
          "scatter3d": [
           {
            "line": {
             "colorbar": {
              "outlinewidth": 0,
              "ticks": ""
             }
            },
            "marker": {
             "colorbar": {
              "outlinewidth": 0,
              "ticks": ""
             }
            },
            "type": "scatter3d"
           }
          ],
          "scattercarpet": [
           {
            "marker": {
             "colorbar": {
              "outlinewidth": 0,
              "ticks": ""
             }
            },
            "type": "scattercarpet"
           }
          ],
          "scattergeo": [
           {
            "marker": {
             "colorbar": {
              "outlinewidth": 0,
              "ticks": ""
             }
            },
            "type": "scattergeo"
           }
          ],
          "scattergl": [
           {
            "marker": {
             "colorbar": {
              "outlinewidth": 0,
              "ticks": ""
             }
            },
            "type": "scattergl"
           }
          ],
          "scattermapbox": [
           {
            "marker": {
             "colorbar": {
              "outlinewidth": 0,
              "ticks": ""
             }
            },
            "type": "scattermapbox"
           }
          ],
          "scatterpolar": [
           {
            "marker": {
             "colorbar": {
              "outlinewidth": 0,
              "ticks": ""
             }
            },
            "type": "scatterpolar"
           }
          ],
          "scatterpolargl": [
           {
            "marker": {
             "colorbar": {
              "outlinewidth": 0,
              "ticks": ""
             }
            },
            "type": "scatterpolargl"
           }
          ],
          "scatterternary": [
           {
            "marker": {
             "colorbar": {
              "outlinewidth": 0,
              "ticks": ""
             }
            },
            "type": "scatterternary"
           }
          ],
          "surface": [
           {
            "colorbar": {
             "outlinewidth": 0,
             "ticks": ""
            },
            "colorscale": [
             [
              0,
              "#0d0887"
             ],
             [
              0.1111111111111111,
              "#46039f"
             ],
             [
              0.2222222222222222,
              "#7201a8"
             ],
             [
              0.3333333333333333,
              "#9c179e"
             ],
             [
              0.4444444444444444,
              "#bd3786"
             ],
             [
              0.5555555555555556,
              "#d8576b"
             ],
             [
              0.6666666666666666,
              "#ed7953"
             ],
             [
              0.7777777777777778,
              "#fb9f3a"
             ],
             [
              0.8888888888888888,
              "#fdca26"
             ],
             [
              1,
              "#f0f921"
             ]
            ],
            "type": "surface"
           }
          ],
          "table": [
           {
            "cells": {
             "fill": {
              "color": "#EBF0F8"
             },
             "line": {
              "color": "white"
             }
            },
            "header": {
             "fill": {
              "color": "#C8D4E3"
             },
             "line": {
              "color": "white"
             }
            },
            "type": "table"
           }
          ]
         },
         "layout": {
          "annotationdefaults": {
           "arrowcolor": "#2a3f5f",
           "arrowhead": 0,
           "arrowwidth": 1
          },
          "autotypenumbers": "strict",
          "coloraxis": {
           "colorbar": {
            "outlinewidth": 0,
            "ticks": ""
           }
          },
          "colorscale": {
           "diverging": [
            [
             0,
             "#8e0152"
            ],
            [
             0.1,
             "#c51b7d"
            ],
            [
             0.2,
             "#de77ae"
            ],
            [
             0.3,
             "#f1b6da"
            ],
            [
             0.4,
             "#fde0ef"
            ],
            [
             0.5,
             "#f7f7f7"
            ],
            [
             0.6,
             "#e6f5d0"
            ],
            [
             0.7,
             "#b8e186"
            ],
            [
             0.8,
             "#7fbc41"
            ],
            [
             0.9,
             "#4d9221"
            ],
            [
             1,
             "#276419"
            ]
           ],
           "sequential": [
            [
             0,
             "#0d0887"
            ],
            [
             0.1111111111111111,
             "#46039f"
            ],
            [
             0.2222222222222222,
             "#7201a8"
            ],
            [
             0.3333333333333333,
             "#9c179e"
            ],
            [
             0.4444444444444444,
             "#bd3786"
            ],
            [
             0.5555555555555556,
             "#d8576b"
            ],
            [
             0.6666666666666666,
             "#ed7953"
            ],
            [
             0.7777777777777778,
             "#fb9f3a"
            ],
            [
             0.8888888888888888,
             "#fdca26"
            ],
            [
             1,
             "#f0f921"
            ]
           ],
           "sequentialminus": [
            [
             0,
             "#0d0887"
            ],
            [
             0.1111111111111111,
             "#46039f"
            ],
            [
             0.2222222222222222,
             "#7201a8"
            ],
            [
             0.3333333333333333,
             "#9c179e"
            ],
            [
             0.4444444444444444,
             "#bd3786"
            ],
            [
             0.5555555555555556,
             "#d8576b"
            ],
            [
             0.6666666666666666,
             "#ed7953"
            ],
            [
             0.7777777777777778,
             "#fb9f3a"
            ],
            [
             0.8888888888888888,
             "#fdca26"
            ],
            [
             1,
             "#f0f921"
            ]
           ]
          },
          "colorway": [
           "#636efa",
           "#EF553B",
           "#00cc96",
           "#ab63fa",
           "#FFA15A",
           "#19d3f3",
           "#FF6692",
           "#B6E880",
           "#FF97FF",
           "#FECB52"
          ],
          "font": {
           "color": "#2a3f5f"
          },
          "geo": {
           "bgcolor": "white",
           "lakecolor": "white",
           "landcolor": "#E5ECF6",
           "showlakes": true,
           "showland": true,
           "subunitcolor": "white"
          },
          "hoverlabel": {
           "align": "left"
          },
          "hovermode": "closest",
          "mapbox": {
           "style": "light"
          },
          "paper_bgcolor": "white",
          "plot_bgcolor": "#E5ECF6",
          "polar": {
           "angularaxis": {
            "gridcolor": "white",
            "linecolor": "white",
            "ticks": ""
           },
           "bgcolor": "#E5ECF6",
           "radialaxis": {
            "gridcolor": "white",
            "linecolor": "white",
            "ticks": ""
           }
          },
          "scene": {
           "xaxis": {
            "backgroundcolor": "#E5ECF6",
            "gridcolor": "white",
            "gridwidth": 2,
            "linecolor": "white",
            "showbackground": true,
            "ticks": "",
            "zerolinecolor": "white"
           },
           "yaxis": {
            "backgroundcolor": "#E5ECF6",
            "gridcolor": "white",
            "gridwidth": 2,
            "linecolor": "white",
            "showbackground": true,
            "ticks": "",
            "zerolinecolor": "white"
           },
           "zaxis": {
            "backgroundcolor": "#E5ECF6",
            "gridcolor": "white",
            "gridwidth": 2,
            "linecolor": "white",
            "showbackground": true,
            "ticks": "",
            "zerolinecolor": "white"
           }
          },
          "shapedefaults": {
           "line": {
            "color": "#2a3f5f"
           }
          },
          "ternary": {
           "aaxis": {
            "gridcolor": "white",
            "linecolor": "white",
            "ticks": ""
           },
           "baxis": {
            "gridcolor": "white",
            "linecolor": "white",
            "ticks": ""
           },
           "bgcolor": "#E5ECF6",
           "caxis": {
            "gridcolor": "white",
            "linecolor": "white",
            "ticks": ""
           }
          },
          "title": {
           "x": 0.05
          },
          "xaxis": {
           "automargin": true,
           "gridcolor": "white",
           "linecolor": "white",
           "ticks": "",
           "title": {
            "standoff": 15
           },
           "zerolinecolor": "white",
           "zerolinewidth": 2
          },
          "yaxis": {
           "automargin": true,
           "gridcolor": "white",
           "linecolor": "white",
           "ticks": "",
           "title": {
            "standoff": 15
           },
           "zerolinecolor": "white",
           "zerolinewidth": 2
          }
         }
        },
        "title": {
         "font": {
          "family": "Open Sans, sans-serif",
          "size": 42
         }
        },
        "xaxis": {
         "anchor": "y",
         "domain": [
          0,
          0.45
         ],
         "tickfont": {
          "size": 25
         },
         "title": {
          "font": {
           "size": 28
          },
          "text": "Month"
         }
        },
        "xaxis2": {
         "anchor": "y2",
         "domain": [
          0.55,
          1
         ],
         "tickfont": {
          "size": 25
         },
         "title": {
          "font": {
           "size": 28
          },
          "text": "Month"
         }
        },
        "yaxis": {
         "anchor": "x",
         "domain": [
          0,
          1
         ],
         "tickfont": {
          "size": 25
         },
         "tickformat": ".0%",
         "title": {
          "font": {
           "size": 28
          },
          "text": "Occupancy Rate (%)"
         }
        },
        "yaxis2": {
         "anchor": "x2",
         "domain": [
          0,
          1
         ],
         "tickfont": {
          "size": 25
         },
         "tickprefix": "$",
         "title": {
          "font": {
           "size": 28
          },
          "text": "Daily Rates ($)"
         }
        }
       }
      }
     },
     "metadata": {},
     "output_type": "display_data"
    }
   ],
   "source": [
    "# Импорт необходимых библиотек (Importing necessary libraries)\n",
    "import plotly.graph_objects as go\n",
    "import plotly.subplots as sp\n",
    "\n",
    "# Создание сабплотов (Creating subplots)\n",
    "fig = sp.make_subplots(rows=1, cols=2)\n",
    "\n",
    "# График занятости (Occupancy Rate Plot)\n",
    "fig.add_trace(\n",
    "    go.Scatter(\n",
    "        x=seasonality_df.index, \n",
    "        y=seasonality_df['occupancy_rates'], \n",
    "        mode='lines', \n",
    "        line=dict(color='magenta', width=4), # Increased line width\n",
    "        name='Occupancy Rate',\n",
    "        showlegend=False\n",
    "    ),\n",
    "    row=1, \n",
    "    col=1\n",
    ")\n",
    "\n",
    "# График дневных ставок (Daily Rates Plot)\n",
    "fig.add_trace(\n",
    "    go.Scatter(\n",
    "        x=seasonality_df.index, \n",
    "        y=seasonality_df['daily_rates'], \n",
    "        mode='lines', \n",
    "        line=dict(color='cyan', width=4), # Increased line width\n",
    "        name='Daily Rates',\n",
    "        showlegend=False\n",
    "    ),\n",
    "    row=1, \n",
    "    col=2\n",
    ")\n",
    "\n",
    "# Настройка параметров графиков (Adjusting plot parameters)\n",
    "fig.update_layout(\n",
    "    title_font=dict(size=42, family=\"Open Sans, sans-serif\"), # Font adjustment\n",
    "    plot_bgcolor='white',\n",
    "    paper_bgcolor='white'\n",
    ")\n",
    "\n",
    "# Установка заголовка и других параметров для графика занятости (Setting title and other parameters for Occupancy Rate Plot)\n",
    "fig.update_xaxes(title_text=\"Month\", row=1, col=1, title_font=dict(size=28), tickfont=dict(size=25))\n",
    "fig.update_yaxes(title_text=\"Occupancy Rate (%)\", tickformat='.0%', row=1, col=1, title_font=dict(size=28), tickfont=dict(size=25))\n",
    "fig.add_annotation(text=f\"Average occupancy rate: {average_occupancy:.2%}\", xref=\"paper\", yref=\"paper\", x=0.11, y=1.18, font=dict(size=25), showarrow=False)\n",
    "\n",
    "# Установка заголовка и других параметров для графика дневных ставок (Setting title and other parameters for Daily Rates Plot)\n",
    "fig.update_xaxes(title_text=\"Month\", row=1, col=2, title_font=dict(size=28), tickfont=dict(size=25))\n",
    "fig.update_yaxes(title_text=\"Daily Rates ($)\", tickprefix=\"$\", row=1, col=2, title_font=dict(size=28), tickfont=dict(size=25))\n",
    "fig.add_annotation(text=f\"Average daily rate: ${average_rate:.2f}\", xref=\"paper\", yref=\"paper\", x=0.87, y=1.18, font=dict(size=25), showarrow=False)\n",
    "\n",
    "fig.show()\n"
   ]
  },
  {
   "cell_type": "code",
   "execution_count": 8,
   "metadata": {},
   "outputs": [
    {
     "data": {
      "text/plain": [
       "0.33340787119856885"
      ]
     },
     "execution_count": 9,
     "metadata": {},
     "output_type": "execute_result"
    },
    {
     "name": "stdout",
     "output_type": "stream",
     "text": [
      "Updated chosen_average_rate: $150.0\n"
     ]
    },
    {
     "data": {
      "text/plain": [
       "0.33340787119856885"
      ]
     },
     "execution_count": 8,
     "metadata": {},
     "output_type": "execute_result"
    }
   ],
   "source": [
    "operating_expenses = 149.1/447.2\n",
    "operating_expenses"
   ]
  },
  {
   "cell_type": "code",
   "execution_count": 9,
   "metadata": {},
   "outputs": [
    {
     "data": {
      "application/vnd.plotly.v1+json": {
       "config": {
        "plotlyServerURL": "https://plot.ly"
       },
       "data": [
        {
         "line": {
          "color": "blue",
          "width": 4
         },
         "mode": "lines",
         "name": "Net Operating Income",
         "type": "scatter",
         "x": [
          "Jan",
          "Feb",
          "Mar",
          "Apr",
          "May",
          "Jun",
          "Jul",
          "Aug",
          "Sep",
          "Oct",
          "Nov",
          "Dec"
         ],
         "y": [
          985,
          1362,
          1405,
          1796,
          1720,
          1964,
          2541,
          2476,
          1725,
          1572,
          1017,
          2131
         ]
        }
       ],
       "layout": {
        "annotations": [
         {
          "arrowhead": 4,
          "ax": 0,
          "ay": -40,
          "font": {
           "size": 25
          },
          "showarrow": true,
          "text": "Max: $2541.00",
          "x": "Jul",
          "y": 2541
         }
        ],
        "height": 800,
        "paper_bgcolor": "white",
        "plot_bgcolor": "white",
        "template": {
         "data": {
          "bar": [
           {
            "error_x": {
             "color": "#2a3f5f"
            },
            "error_y": {
             "color": "#2a3f5f"
            },
            "marker": {
             "line": {
              "color": "#E5ECF6",
              "width": 0.5
             },
             "pattern": {
              "fillmode": "overlay",
              "size": 10,
              "solidity": 0.2
             }
            },
            "type": "bar"
           }
          ],
          "barpolar": [
           {
            "marker": {
             "line": {
              "color": "#E5ECF6",
              "width": 0.5
             },
             "pattern": {
              "fillmode": "overlay",
              "size": 10,
              "solidity": 0.2
             }
            },
            "type": "barpolar"
           }
          ],
          "carpet": [
           {
            "aaxis": {
             "endlinecolor": "#2a3f5f",
             "gridcolor": "white",
             "linecolor": "white",
             "minorgridcolor": "white",
             "startlinecolor": "#2a3f5f"
            },
            "baxis": {
             "endlinecolor": "#2a3f5f",
             "gridcolor": "white",
             "linecolor": "white",
             "minorgridcolor": "white",
             "startlinecolor": "#2a3f5f"
            },
            "type": "carpet"
           }
          ],
          "choropleth": [
           {
            "colorbar": {
             "outlinewidth": 0,
             "ticks": ""
            },
            "type": "choropleth"
           }
          ],
          "contour": [
           {
            "colorbar": {
             "outlinewidth": 0,
             "ticks": ""
            },
            "colorscale": [
             [
              0,
              "#0d0887"
             ],
             [
              0.1111111111111111,
              "#46039f"
             ],
             [
              0.2222222222222222,
              "#7201a8"
             ],
             [
              0.3333333333333333,
              "#9c179e"
             ],
             [
              0.4444444444444444,
              "#bd3786"
             ],
             [
              0.5555555555555556,
              "#d8576b"
             ],
             [
              0.6666666666666666,
              "#ed7953"
             ],
             [
              0.7777777777777778,
              "#fb9f3a"
             ],
             [
              0.8888888888888888,
              "#fdca26"
             ],
             [
              1,
              "#f0f921"
             ]
            ],
            "type": "contour"
           }
          ],
          "contourcarpet": [
           {
            "colorbar": {
             "outlinewidth": 0,
             "ticks": ""
            },
            "type": "contourcarpet"
           }
          ],
          "heatmap": [
           {
            "colorbar": {
             "outlinewidth": 0,
             "ticks": ""
            },
            "colorscale": [
             [
              0,
              "#0d0887"
             ],
             [
              0.1111111111111111,
              "#46039f"
             ],
             [
              0.2222222222222222,
              "#7201a8"
             ],
             [
              0.3333333333333333,
              "#9c179e"
             ],
             [
              0.4444444444444444,
              "#bd3786"
             ],
             [
              0.5555555555555556,
              "#d8576b"
             ],
             [
              0.6666666666666666,
              "#ed7953"
             ],
             [
              0.7777777777777778,
              "#fb9f3a"
             ],
             [
              0.8888888888888888,
              "#fdca26"
             ],
             [
              1,
              "#f0f921"
             ]
            ],
            "type": "heatmap"
           }
          ],
          "heatmapgl": [
           {
            "colorbar": {
             "outlinewidth": 0,
             "ticks": ""
            },
            "colorscale": [
             [
              0,
              "#0d0887"
             ],
             [
              0.1111111111111111,
              "#46039f"
             ],
             [
              0.2222222222222222,
              "#7201a8"
             ],
             [
              0.3333333333333333,
              "#9c179e"
             ],
             [
              0.4444444444444444,
              "#bd3786"
             ],
             [
              0.5555555555555556,
              "#d8576b"
             ],
             [
              0.6666666666666666,
              "#ed7953"
             ],
             [
              0.7777777777777778,
              "#fb9f3a"
             ],
             [
              0.8888888888888888,
              "#fdca26"
             ],
             [
              1,
              "#f0f921"
             ]
            ],
            "type": "heatmapgl"
           }
          ],
          "histogram": [
           {
            "marker": {
             "pattern": {
              "fillmode": "overlay",
              "size": 10,
              "solidity": 0.2
             }
            },
            "type": "histogram"
           }
          ],
          "histogram2d": [
           {
            "colorbar": {
             "outlinewidth": 0,
             "ticks": ""
            },
            "colorscale": [
             [
              0,
              "#0d0887"
             ],
             [
              0.1111111111111111,
              "#46039f"
             ],
             [
              0.2222222222222222,
              "#7201a8"
             ],
             [
              0.3333333333333333,
              "#9c179e"
             ],
             [
              0.4444444444444444,
              "#bd3786"
             ],
             [
              0.5555555555555556,
              "#d8576b"
             ],
             [
              0.6666666666666666,
              "#ed7953"
             ],
             [
              0.7777777777777778,
              "#fb9f3a"
             ],
             [
              0.8888888888888888,
              "#fdca26"
             ],
             [
              1,
              "#f0f921"
             ]
            ],
            "type": "histogram2d"
           }
          ],
          "histogram2dcontour": [
           {
            "colorbar": {
             "outlinewidth": 0,
             "ticks": ""
            },
            "colorscale": [
             [
              0,
              "#0d0887"
             ],
             [
              0.1111111111111111,
              "#46039f"
             ],
             [
              0.2222222222222222,
              "#7201a8"
             ],
             [
              0.3333333333333333,
              "#9c179e"
             ],
             [
              0.4444444444444444,
              "#bd3786"
             ],
             [
              0.5555555555555556,
              "#d8576b"
             ],
             [
              0.6666666666666666,
              "#ed7953"
             ],
             [
              0.7777777777777778,
              "#fb9f3a"
             ],
             [
              0.8888888888888888,
              "#fdca26"
             ],
             [
              1,
              "#f0f921"
             ]
            ],
            "type": "histogram2dcontour"
           }
          ],
          "mesh3d": [
           {
            "colorbar": {
             "outlinewidth": 0,
             "ticks": ""
            },
            "type": "mesh3d"
           }
          ],
          "parcoords": [
           {
            "line": {
             "colorbar": {
              "outlinewidth": 0,
              "ticks": ""
             }
            },
            "type": "parcoords"
           }
          ],
          "pie": [
           {
            "automargin": true,
            "type": "pie"
           }
          ],
          "scatter": [
           {
            "fillpattern": {
             "fillmode": "overlay",
             "size": 10,
             "solidity": 0.2
            },
            "type": "scatter"
           }
          ],
          "scatter3d": [
           {
            "line": {
             "colorbar": {
              "outlinewidth": 0,
              "ticks": ""
             }
            },
            "marker": {
             "colorbar": {
              "outlinewidth": 0,
              "ticks": ""
             }
            },
            "type": "scatter3d"
           }
          ],
          "scattercarpet": [
           {
            "marker": {
             "colorbar": {
              "outlinewidth": 0,
              "ticks": ""
             }
            },
            "type": "scattercarpet"
           }
          ],
          "scattergeo": [
           {
            "marker": {
             "colorbar": {
              "outlinewidth": 0,
              "ticks": ""
             }
            },
            "type": "scattergeo"
           }
          ],
          "scattergl": [
           {
            "marker": {
             "colorbar": {
              "outlinewidth": 0,
              "ticks": ""
             }
            },
            "type": "scattergl"
           }
          ],
          "scattermapbox": [
           {
            "marker": {
             "colorbar": {
              "outlinewidth": 0,
              "ticks": ""
             }
            },
            "type": "scattermapbox"
           }
          ],
          "scatterpolar": [
           {
            "marker": {
             "colorbar": {
              "outlinewidth": 0,
              "ticks": ""
             }
            },
            "type": "scatterpolar"
           }
          ],
          "scatterpolargl": [
           {
            "marker": {
             "colorbar": {
              "outlinewidth": 0,
              "ticks": ""
             }
            },
            "type": "scatterpolargl"
           }
          ],
          "scatterternary": [
           {
            "marker": {
             "colorbar": {
              "outlinewidth": 0,
              "ticks": ""
             }
            },
            "type": "scatterternary"
           }
          ],
          "surface": [
           {
            "colorbar": {
             "outlinewidth": 0,
             "ticks": ""
            },
            "colorscale": [
             [
              0,
              "#0d0887"
             ],
             [
              0.1111111111111111,
              "#46039f"
             ],
             [
              0.2222222222222222,
              "#7201a8"
             ],
             [
              0.3333333333333333,
              "#9c179e"
             ],
             [
              0.4444444444444444,
              "#bd3786"
             ],
             [
              0.5555555555555556,
              "#d8576b"
             ],
             [
              0.6666666666666666,
              "#ed7953"
             ],
             [
              0.7777777777777778,
              "#fb9f3a"
             ],
             [
              0.8888888888888888,
              "#fdca26"
             ],
             [
              1,
              "#f0f921"
             ]
            ],
            "type": "surface"
           }
          ],
          "table": [
           {
            "cells": {
             "fill": {
              "color": "#EBF0F8"
             },
             "line": {
              "color": "white"
             }
            },
            "header": {
             "fill": {
              "color": "#C8D4E3"
             },
             "line": {
              "color": "white"
             }
            },
            "type": "table"
           }
          ]
         },
         "layout": {
          "annotationdefaults": {
           "arrowcolor": "#2a3f5f",
           "arrowhead": 0,
           "arrowwidth": 1
          },
          "autotypenumbers": "strict",
          "coloraxis": {
           "colorbar": {
            "outlinewidth": 0,
            "ticks": ""
           }
          },
          "colorscale": {
           "diverging": [
            [
             0,
             "#8e0152"
            ],
            [
             0.1,
             "#c51b7d"
            ],
            [
             0.2,
             "#de77ae"
            ],
            [
             0.3,
             "#f1b6da"
            ],
            [
             0.4,
             "#fde0ef"
            ],
            [
             0.5,
             "#f7f7f7"
            ],
            [
             0.6,
             "#e6f5d0"
            ],
            [
             0.7,
             "#b8e186"
            ],
            [
             0.8,
             "#7fbc41"
            ],
            [
             0.9,
             "#4d9221"
            ],
            [
             1,
             "#276419"
            ]
           ],
           "sequential": [
            [
             0,
             "#0d0887"
            ],
            [
             0.1111111111111111,
             "#46039f"
            ],
            [
             0.2222222222222222,
             "#7201a8"
            ],
            [
             0.3333333333333333,
             "#9c179e"
            ],
            [
             0.4444444444444444,
             "#bd3786"
            ],
            [
             0.5555555555555556,
             "#d8576b"
            ],
            [
             0.6666666666666666,
             "#ed7953"
            ],
            [
             0.7777777777777778,
             "#fb9f3a"
            ],
            [
             0.8888888888888888,
             "#fdca26"
            ],
            [
             1,
             "#f0f921"
            ]
           ],
           "sequentialminus": [
            [
             0,
             "#0d0887"
            ],
            [
             0.1111111111111111,
             "#46039f"
            ],
            [
             0.2222222222222222,
             "#7201a8"
            ],
            [
             0.3333333333333333,
             "#9c179e"
            ],
            [
             0.4444444444444444,
             "#bd3786"
            ],
            [
             0.5555555555555556,
             "#d8576b"
            ],
            [
             0.6666666666666666,
             "#ed7953"
            ],
            [
             0.7777777777777778,
             "#fb9f3a"
            ],
            [
             0.8888888888888888,
             "#fdca26"
            ],
            [
             1,
             "#f0f921"
            ]
           ]
          },
          "colorway": [
           "#636efa",
           "#EF553B",
           "#00cc96",
           "#ab63fa",
           "#FFA15A",
           "#19d3f3",
           "#FF6692",
           "#B6E880",
           "#FF97FF",
           "#FECB52"
          ],
          "font": {
           "color": "#2a3f5f"
          },
          "geo": {
           "bgcolor": "white",
           "lakecolor": "white",
           "landcolor": "#E5ECF6",
           "showlakes": true,
           "showland": true,
           "subunitcolor": "white"
          },
          "hoverlabel": {
           "align": "left"
          },
          "hovermode": "closest",
          "mapbox": {
           "style": "light"
          },
          "paper_bgcolor": "white",
          "plot_bgcolor": "#E5ECF6",
          "polar": {
           "angularaxis": {
            "gridcolor": "white",
            "linecolor": "white",
            "ticks": ""
           },
           "bgcolor": "#E5ECF6",
           "radialaxis": {
            "gridcolor": "white",
            "linecolor": "white",
            "ticks": ""
           }
          },
          "scene": {
           "xaxis": {
            "backgroundcolor": "#E5ECF6",
            "gridcolor": "white",
            "gridwidth": 2,
            "linecolor": "white",
            "showbackground": true,
            "ticks": "",
            "zerolinecolor": "white"
           },
           "yaxis": {
            "backgroundcolor": "#E5ECF6",
            "gridcolor": "white",
            "gridwidth": 2,
            "linecolor": "white",
            "showbackground": true,
            "ticks": "",
            "zerolinecolor": "white"
           },
           "zaxis": {
            "backgroundcolor": "#E5ECF6",
            "gridcolor": "white",
            "gridwidth": 2,
            "linecolor": "white",
            "showbackground": true,
            "ticks": "",
            "zerolinecolor": "white"
           }
          },
          "shapedefaults": {
           "line": {
            "color": "#2a3f5f"
           }
          },
          "ternary": {
           "aaxis": {
            "gridcolor": "white",
            "linecolor": "white",
            "ticks": ""
           },
           "baxis": {
            "gridcolor": "white",
            "linecolor": "white",
            "ticks": ""
           },
           "bgcolor": "#E5ECF6",
           "caxis": {
            "gridcolor": "white",
            "linecolor": "white",
            "ticks": ""
           }
          },
          "title": {
           "x": 0.05
          },
          "xaxis": {
           "automargin": true,
           "gridcolor": "white",
           "linecolor": "white",
           "ticks": "",
           "title": {
            "standoff": 15
           },
           "zerolinecolor": "white",
           "zerolinewidth": 2
          },
          "yaxis": {
           "automargin": true,
           "gridcolor": "white",
           "linecolor": "white",
           "ticks": "",
           "title": {
            "standoff": 15
           },
           "zerolinecolor": "white",
           "zerolinewidth": 2
          }
         }
        },
        "title": {
         "font": {
          "family": "Open Sans, sans-serif",
          "size": 42
         },
         "text": "Net Operating Income"
        },
        "xaxis": {
         "showgrid": false,
         "tickfont": {
          "size": 25
         },
         "title": {
          "font": {
           "size": 28
          },
          "text": "Month"
         }
        },
        "yaxis": {
         "showgrid": false,
         "tickfont": {
          "size": 25
         },
         "tickprefix": "$",
         "title": {
          "font": {
           "size": 28
          },
          "text": "Amount ($)"
         }
        }
       }
      }
     },
     "metadata": {},
     "output_type": "display_data"
    }
   ],
   "source": [
    "# Создание графика для Net Operating Income (Creating a plot for Net Operating Income)\n",
    "fig = go.Figure()\n",
    "\n",
    "# Adding the data\n",
    "fig.add_trace(\n",
    "    go.Scatter(\n",
    "        x=seasonality_df.index, \n",
    "        y=seasonality_df['monthly_net_operating_income'], \n",
    "        mode='lines', \n",
    "        line=dict(color='blue', width=4),  # Increased line width for bolder appearance\n",
    "        name='Net Operating Income',\n",
    "    )\n",
    ")\n",
    "\n",
    "# Вычисление максимального значения (Calculating the max value)\n",
    "max_value = seasonality_df['monthly_net_operating_income'].max()\n",
    "max_value_month = seasonality_df['monthly_net_operating_income'].idxmax()\n",
    "\n",
    "# Настройка параметров графика (Adjusting plot parameters)\n",
    "fig.update_layout(\n",
    "    title=\"Net Operating Income\",\n",
    "    title_font=dict(size=42, family=\"Open Sans, sans-serif\"), # Increased font size for the title\n",
    "    plot_bgcolor='white',\n",
    "    paper_bgcolor='white',\n",
    "    xaxis_title=\"Month\",\n",
    "    xaxis_showgrid=False,\n",
    "    xaxis_title_font=dict(size=28), # Increased font size for the x-axis title\n",
    "    xaxis_tickfont=dict(size=25),  # Increased font size for the x-axis ticks\n",
    "    yaxis_title=\"Amount ($)\",\n",
    "    yaxis_tickprefix=\"$\",\n",
    "    yaxis_showgrid=False,\n",
    "    yaxis_title_font=dict(size=28), # Increased font size for the y-axis title\n",
    "    yaxis_tickfont=dict(size=25),  # Increased font size for the y-axis ticks\n",
    "    height=800\n",
    ")\n",
    "\n",
    "# Highlighting the max value\n",
    "fig.add_annotation(\n",
    "    text=f\"Max: ${max_value:.2f}\",\n",
    "    x=max_value_month,\n",
    "    y=max_value,\n",
    "    showarrow=True,\n",
    "    arrowhead=4,\n",
    "    ax=0,\n",
    "    ay=-40,\n",
    "    font=dict(size=25)  # Increased font size for the annotation\n",
    ")\n",
    "\n",
    "fig.show()\n"
   ]
  }
 ],
 "metadata": {
  "kernelspec": {
   "display_name": "Python 3",
   "language": "python",
   "name": "python3"
  },
  "language_info": {
   "codemirror_mode": {
    "name": "ipython",
    "version": 3
   },
   "file_extension": ".py",
   "mimetype": "text/x-python",
   "name": "python",
   "nbconvert_exporter": "python",
   "pygments_lexer": "ipython3",
   "version": "3.10.11"
  }
 },
 "nbformat": 4,
 "nbformat_minor": 2
}
