{
 "cells": [
  {
   "cell_type": "markdown",
   "metadata": {},
   "source": [
    "# Housing Project Presentation (CZ)\n",
    "<img src=\"https://i.imgur.com/GSgP1L5.jpg\" width=\"1000\" align=\"center\"/>\n",
    "\n",
    "\n",
    "## Presentation points that we need to consider:\n",
    " - Introduction\n",
    " - Projects presentation\n",
    "   - Project 1\n",
    "   - Project 2\n",
    "   - Project 3\n",
    " - Market Analysis\n",
    "   - Dedicate a significant portion of your presentation to showcasing the strong demand for vacation rentals in the Czech Republic. Highlight occupancy rates, pricing trends, and the overall growth potential of the market.\n",
    "   - Market trends in comparison to other European countries\n",
    "   - Economic growth and tourism growth\n",
    " - Overview of Vacation Rental Market\n",
    "   - Market Size\n",
    "   - Market Segmentation\n",
    "   - Market Growth\n",
    " - Competition Analysis\n",
    "   - Pricing Analysis\n",
    "   - Occupancy rates\n",
    "   - Competitive Landscape\n",
    "   - Our Competitive Advantage\n",
    " - Market Trends and Housing Completion\n",
    "   - Market Trends\n",
    "   - Investment Opportunity\n",
    " - Financial Projections\n",
    "   - Financial Viability\n",
    "   - Cash flow predictions\n",
    "     - Investment Returns\n",
    "     - Predicted Occupancy Rates\n",
    "     - Predicted Average Daily Rates\n",
    " - Location Insights\n",
    "   - Potential Locations\n",
    " - Regulatory Compliance\n",
    " - Taxation\n",
    "   - Taxation of Rental Income\n",
    "   - Airbnb Taxation\n",
    " - Marketing Strategy"
   ]
  },
  {
   "cell_type": "markdown",
   "metadata": {},
   "source": [
    "# Notes\n",
    "- airbnb data\n",
    "  -  occupancy per \n",
    "- land prices\n",
    "- price of the construction\n",
    "\n",
    "100k for the investment \n",
    "\n",
    "10k for land\n",
    "60k for the house\n",
    " - 20k goal for the house\n",
    "\n",
    "- maintenance costs \n",
    "- burn rate\n",
    "\n",
    "200 euros is the per day "
   ]
  },
  {
   "cell_type": "markdown",
   "metadata": {},
   "source": [
    "## Market trends"
   ]
  },
  {
   "cell_type": "code",
   "execution_count": 3,
   "metadata": {},
   "outputs": [],
   "source": [
    "file_path = \"data\\Housing construction dwellings started 1998 - 2023.xlsx\""
   ]
  },
  {
   "cell_type": "code",
   "execution_count": 4,
   "metadata": {},
   "outputs": [
    {
     "data": {
      "application/vnd.plotly.v1+json": {
       "config": {
        "plotlyServerURL": "https://plot.ly"
       },
       "data": [
        {
         "hovertemplate": "Year=%{x}<br>Total Number of Houses Started=%{y}<extra></extra>",
         "legendgroup": "",
         "line": {
          "color": "#636efa",
          "dash": "solid"
         },
         "marker": {
          "symbol": "circle"
         },
         "mode": "lines",
         "name": "",
         "orientation": "h",
         "showlegend": false,
         "type": "scatter",
         "x": [
          1998,
          1999,
          2000,
          2001,
          2002,
          2003,
          2004,
          2005,
          2006,
          2007,
          2008,
          2009,
          2010,
          2011,
          2012,
          2013,
          2014,
          2015,
          2016,
          2017,
          2018,
          2019,
          2020,
          2021,
          2022
         ],
         "xaxis": "x",
         "y": [
          35027,
          32900,
          32377,
          28983,
          33606,
          36496,
          39037,
          40381,
          43747,
          43796,
          43531,
          37319,
          28135,
          27535,
          23853,
          22108,
          24351,
          26378,
          27224,
          31521,
          33121,
          38677,
          35254,
          44992,
          42242
         ],
         "yaxis": "y"
        }
       ],
       "layout": {
        "annotations": [
         {
          "arrowhead": 7,
          "ax": 0,
          "ay": 40,
          "font": {
           "size": 25
          },
          "showarrow": true,
          "text": "<b>Lowest: 2013, 22,108</b>",
          "x": 2013,
          "xref": "x",
          "y": 22108,
          "yref": "y"
         },
         {
          "arrowhead": 7,
          "ax": 0,
          "ay": -40,
          "font": {
           "size": 25
          },
          "showarrow": true,
          "text": "<b>Latest: 2022, 42,242</b>",
          "x": 2022,
          "xref": "x",
          "y": 42242,
          "yref": "y"
         }
        ],
        "font": {
         "family": "Arial, monospace",
         "size": 25
        },
        "height": 800,
        "legend": {
         "tracegroupgap": 0
        },
        "template": {
         "data": {
          "bar": [
           {
            "error_x": {
             "color": "#2a3f5f"
            },
            "error_y": {
             "color": "#2a3f5f"
            },
            "marker": {
             "line": {
              "color": "white",
              "width": 0.5
             },
             "pattern": {
              "fillmode": "overlay",
              "size": 10,
              "solidity": 0.2
             }
            },
            "type": "bar"
           }
          ],
          "barpolar": [
           {
            "marker": {
             "line": {
              "color": "white",
              "width": 0.5
             },
             "pattern": {
              "fillmode": "overlay",
              "size": 10,
              "solidity": 0.2
             }
            },
            "type": "barpolar"
           }
          ],
          "carpet": [
           {
            "aaxis": {
             "endlinecolor": "#2a3f5f",
             "gridcolor": "#C8D4E3",
             "linecolor": "#C8D4E3",
             "minorgridcolor": "#C8D4E3",
             "startlinecolor": "#2a3f5f"
            },
            "baxis": {
             "endlinecolor": "#2a3f5f",
             "gridcolor": "#C8D4E3",
             "linecolor": "#C8D4E3",
             "minorgridcolor": "#C8D4E3",
             "startlinecolor": "#2a3f5f"
            },
            "type": "carpet"
           }
          ],
          "choropleth": [
           {
            "colorbar": {
             "outlinewidth": 0,
             "ticks": ""
            },
            "type": "choropleth"
           }
          ],
          "contour": [
           {
            "colorbar": {
             "outlinewidth": 0,
             "ticks": ""
            },
            "colorscale": [
             [
              0,
              "#0d0887"
             ],
             [
              0.1111111111111111,
              "#46039f"
             ],
             [
              0.2222222222222222,
              "#7201a8"
             ],
             [
              0.3333333333333333,
              "#9c179e"
             ],
             [
              0.4444444444444444,
              "#bd3786"
             ],
             [
              0.5555555555555556,
              "#d8576b"
             ],
             [
              0.6666666666666666,
              "#ed7953"
             ],
             [
              0.7777777777777778,
              "#fb9f3a"
             ],
             [
              0.8888888888888888,
              "#fdca26"
             ],
             [
              1,
              "#f0f921"
             ]
            ],
            "type": "contour"
           }
          ],
          "contourcarpet": [
           {
            "colorbar": {
             "outlinewidth": 0,
             "ticks": ""
            },
            "type": "contourcarpet"
           }
          ],
          "heatmap": [
           {
            "colorbar": {
             "outlinewidth": 0,
             "ticks": ""
            },
            "colorscale": [
             [
              0,
              "#0d0887"
             ],
             [
              0.1111111111111111,
              "#46039f"
             ],
             [
              0.2222222222222222,
              "#7201a8"
             ],
             [
              0.3333333333333333,
              "#9c179e"
             ],
             [
              0.4444444444444444,
              "#bd3786"
             ],
             [
              0.5555555555555556,
              "#d8576b"
             ],
             [
              0.6666666666666666,
              "#ed7953"
             ],
             [
              0.7777777777777778,
              "#fb9f3a"
             ],
             [
              0.8888888888888888,
              "#fdca26"
             ],
             [
              1,
              "#f0f921"
             ]
            ],
            "type": "heatmap"
           }
          ],
          "heatmapgl": [
           {
            "colorbar": {
             "outlinewidth": 0,
             "ticks": ""
            },
            "colorscale": [
             [
              0,
              "#0d0887"
             ],
             [
              0.1111111111111111,
              "#46039f"
             ],
             [
              0.2222222222222222,
              "#7201a8"
             ],
             [
              0.3333333333333333,
              "#9c179e"
             ],
             [
              0.4444444444444444,
              "#bd3786"
             ],
             [
              0.5555555555555556,
              "#d8576b"
             ],
             [
              0.6666666666666666,
              "#ed7953"
             ],
             [
              0.7777777777777778,
              "#fb9f3a"
             ],
             [
              0.8888888888888888,
              "#fdca26"
             ],
             [
              1,
              "#f0f921"
             ]
            ],
            "type": "heatmapgl"
           }
          ],
          "histogram": [
           {
            "marker": {
             "pattern": {
              "fillmode": "overlay",
              "size": 10,
              "solidity": 0.2
             }
            },
            "type": "histogram"
           }
          ],
          "histogram2d": [
           {
            "colorbar": {
             "outlinewidth": 0,
             "ticks": ""
            },
            "colorscale": [
             [
              0,
              "#0d0887"
             ],
             [
              0.1111111111111111,
              "#46039f"
             ],
             [
              0.2222222222222222,
              "#7201a8"
             ],
             [
              0.3333333333333333,
              "#9c179e"
             ],
             [
              0.4444444444444444,
              "#bd3786"
             ],
             [
              0.5555555555555556,
              "#d8576b"
             ],
             [
              0.6666666666666666,
              "#ed7953"
             ],
             [
              0.7777777777777778,
              "#fb9f3a"
             ],
             [
              0.8888888888888888,
              "#fdca26"
             ],
             [
              1,
              "#f0f921"
             ]
            ],
            "type": "histogram2d"
           }
          ],
          "histogram2dcontour": [
           {
            "colorbar": {
             "outlinewidth": 0,
             "ticks": ""
            },
            "colorscale": [
             [
              0,
              "#0d0887"
             ],
             [
              0.1111111111111111,
              "#46039f"
             ],
             [
              0.2222222222222222,
              "#7201a8"
             ],
             [
              0.3333333333333333,
              "#9c179e"
             ],
             [
              0.4444444444444444,
              "#bd3786"
             ],
             [
              0.5555555555555556,
              "#d8576b"
             ],
             [
              0.6666666666666666,
              "#ed7953"
             ],
             [
              0.7777777777777778,
              "#fb9f3a"
             ],
             [
              0.8888888888888888,
              "#fdca26"
             ],
             [
              1,
              "#f0f921"
             ]
            ],
            "type": "histogram2dcontour"
           }
          ],
          "mesh3d": [
           {
            "colorbar": {
             "outlinewidth": 0,
             "ticks": ""
            },
            "type": "mesh3d"
           }
          ],
          "parcoords": [
           {
            "line": {
             "colorbar": {
              "outlinewidth": 0,
              "ticks": ""
             }
            },
            "type": "parcoords"
           }
          ],
          "pie": [
           {
            "automargin": true,
            "type": "pie"
           }
          ],
          "scatter": [
           {
            "fillpattern": {
             "fillmode": "overlay",
             "size": 10,
             "solidity": 0.2
            },
            "type": "scatter"
           }
          ],
          "scatter3d": [
           {
            "line": {
             "colorbar": {
              "outlinewidth": 0,
              "ticks": ""
             }
            },
            "marker": {
             "colorbar": {
              "outlinewidth": 0,
              "ticks": ""
             }
            },
            "type": "scatter3d"
           }
          ],
          "scattercarpet": [
           {
            "marker": {
             "colorbar": {
              "outlinewidth": 0,
              "ticks": ""
             }
            },
            "type": "scattercarpet"
           }
          ],
          "scattergeo": [
           {
            "marker": {
             "colorbar": {
              "outlinewidth": 0,
              "ticks": ""
             }
            },
            "type": "scattergeo"
           }
          ],
          "scattergl": [
           {
            "marker": {
             "colorbar": {
              "outlinewidth": 0,
              "ticks": ""
             }
            },
            "type": "scattergl"
           }
          ],
          "scattermapbox": [
           {
            "marker": {
             "colorbar": {
              "outlinewidth": 0,
              "ticks": ""
             }
            },
            "type": "scattermapbox"
           }
          ],
          "scatterpolar": [
           {
            "marker": {
             "colorbar": {
              "outlinewidth": 0,
              "ticks": ""
             }
            },
            "type": "scatterpolar"
           }
          ],
          "scatterpolargl": [
           {
            "marker": {
             "colorbar": {
              "outlinewidth": 0,
              "ticks": ""
             }
            },
            "type": "scatterpolargl"
           }
          ],
          "scatterternary": [
           {
            "marker": {
             "colorbar": {
              "outlinewidth": 0,
              "ticks": ""
             }
            },
            "type": "scatterternary"
           }
          ],
          "surface": [
           {
            "colorbar": {
             "outlinewidth": 0,
             "ticks": ""
            },
            "colorscale": [
             [
              0,
              "#0d0887"
             ],
             [
              0.1111111111111111,
              "#46039f"
             ],
             [
              0.2222222222222222,
              "#7201a8"
             ],
             [
              0.3333333333333333,
              "#9c179e"
             ],
             [
              0.4444444444444444,
              "#bd3786"
             ],
             [
              0.5555555555555556,
              "#d8576b"
             ],
             [
              0.6666666666666666,
              "#ed7953"
             ],
             [
              0.7777777777777778,
              "#fb9f3a"
             ],
             [
              0.8888888888888888,
              "#fdca26"
             ],
             [
              1,
              "#f0f921"
             ]
            ],
            "type": "surface"
           }
          ],
          "table": [
           {
            "cells": {
             "fill": {
              "color": "#EBF0F8"
             },
             "line": {
              "color": "white"
             }
            },
            "header": {
             "fill": {
              "color": "#C8D4E3"
             },
             "line": {
              "color": "white"
             }
            },
            "type": "table"
           }
          ]
         },
         "layout": {
          "annotationdefaults": {
           "arrowcolor": "#2a3f5f",
           "arrowhead": 0,
           "arrowwidth": 1
          },
          "autotypenumbers": "strict",
          "coloraxis": {
           "colorbar": {
            "outlinewidth": 0,
            "ticks": ""
           }
          },
          "colorscale": {
           "diverging": [
            [
             0,
             "#8e0152"
            ],
            [
             0.1,
             "#c51b7d"
            ],
            [
             0.2,
             "#de77ae"
            ],
            [
             0.3,
             "#f1b6da"
            ],
            [
             0.4,
             "#fde0ef"
            ],
            [
             0.5,
             "#f7f7f7"
            ],
            [
             0.6,
             "#e6f5d0"
            ],
            [
             0.7,
             "#b8e186"
            ],
            [
             0.8,
             "#7fbc41"
            ],
            [
             0.9,
             "#4d9221"
            ],
            [
             1,
             "#276419"
            ]
           ],
           "sequential": [
            [
             0,
             "#0d0887"
            ],
            [
             0.1111111111111111,
             "#46039f"
            ],
            [
             0.2222222222222222,
             "#7201a8"
            ],
            [
             0.3333333333333333,
             "#9c179e"
            ],
            [
             0.4444444444444444,
             "#bd3786"
            ],
            [
             0.5555555555555556,
             "#d8576b"
            ],
            [
             0.6666666666666666,
             "#ed7953"
            ],
            [
             0.7777777777777778,
             "#fb9f3a"
            ],
            [
             0.8888888888888888,
             "#fdca26"
            ],
            [
             1,
             "#f0f921"
            ]
           ],
           "sequentialminus": [
            [
             0,
             "#0d0887"
            ],
            [
             0.1111111111111111,
             "#46039f"
            ],
            [
             0.2222222222222222,
             "#7201a8"
            ],
            [
             0.3333333333333333,
             "#9c179e"
            ],
            [
             0.4444444444444444,
             "#bd3786"
            ],
            [
             0.5555555555555556,
             "#d8576b"
            ],
            [
             0.6666666666666666,
             "#ed7953"
            ],
            [
             0.7777777777777778,
             "#fb9f3a"
            ],
            [
             0.8888888888888888,
             "#fdca26"
            ],
            [
             1,
             "#f0f921"
            ]
           ]
          },
          "colorway": [
           "#636efa",
           "#EF553B",
           "#00cc96",
           "#ab63fa",
           "#FFA15A",
           "#19d3f3",
           "#FF6692",
           "#B6E880",
           "#FF97FF",
           "#FECB52"
          ],
          "font": {
           "color": "#2a3f5f"
          },
          "geo": {
           "bgcolor": "white",
           "lakecolor": "white",
           "landcolor": "white",
           "showlakes": true,
           "showland": true,
           "subunitcolor": "#C8D4E3"
          },
          "hoverlabel": {
           "align": "left"
          },
          "hovermode": "closest",
          "mapbox": {
           "style": "light"
          },
          "paper_bgcolor": "white",
          "plot_bgcolor": "white",
          "polar": {
           "angularaxis": {
            "gridcolor": "#EBF0F8",
            "linecolor": "#EBF0F8",
            "ticks": ""
           },
           "bgcolor": "white",
           "radialaxis": {
            "gridcolor": "#EBF0F8",
            "linecolor": "#EBF0F8",
            "ticks": ""
           }
          },
          "scene": {
           "xaxis": {
            "backgroundcolor": "white",
            "gridcolor": "#DFE8F3",
            "gridwidth": 2,
            "linecolor": "#EBF0F8",
            "showbackground": true,
            "ticks": "",
            "zerolinecolor": "#EBF0F8"
           },
           "yaxis": {
            "backgroundcolor": "white",
            "gridcolor": "#DFE8F3",
            "gridwidth": 2,
            "linecolor": "#EBF0F8",
            "showbackground": true,
            "ticks": "",
            "zerolinecolor": "#EBF0F8"
           },
           "zaxis": {
            "backgroundcolor": "white",
            "gridcolor": "#DFE8F3",
            "gridwidth": 2,
            "linecolor": "#EBF0F8",
            "showbackground": true,
            "ticks": "",
            "zerolinecolor": "#EBF0F8"
           }
          },
          "shapedefaults": {
           "line": {
            "color": "#2a3f5f"
           }
          },
          "ternary": {
           "aaxis": {
            "gridcolor": "#DFE8F3",
            "linecolor": "#A2B1C6",
            "ticks": ""
           },
           "baxis": {
            "gridcolor": "#DFE8F3",
            "linecolor": "#A2B1C6",
            "ticks": ""
           },
           "bgcolor": "white",
           "caxis": {
            "gridcolor": "#DFE8F3",
            "linecolor": "#A2B1C6",
            "ticks": ""
           }
          },
          "title": {
           "x": 0.05
          },
          "xaxis": {
           "automargin": true,
           "gridcolor": "#EBF0F8",
           "linecolor": "#EBF0F8",
           "ticks": "",
           "title": {
            "standoff": 15
           },
           "zerolinecolor": "#EBF0F8",
           "zerolinewidth": 2
          },
          "yaxis": {
           "automargin": true,
           "gridcolor": "#EBF0F8",
           "linecolor": "#EBF0F8",
           "ticks": "",
           "title": {
            "standoff": 15
           },
           "zerolinecolor": "#EBF0F8",
           "zerolinewidth": 2
          }
         }
        },
        "title": {
         "font": {
          "family": "Open Sans, sans-serif",
          "size": 42
         },
         "text": "<b>Trend in the Total Number of Houses Started (1998 - 2023)</b>"
        },
        "xaxis": {
         "anchor": "y",
         "domain": [
          0,
          1
         ],
         "tickfont": {
          "size": 25
         },
         "title": {
          "font": {
           "size": 28
          },
          "text": "Year"
         }
        },
        "yaxis": {
         "anchor": "x",
         "domain": [
          0,
          1
         ],
         "range": [
          0,
          45492
         ],
         "tickfont": {
          "size": 25
         },
         "title": {
          "font": {
           "size": 28
          },
          "text": "Total Number of Houses Started"
         }
        }
       }
      }
     },
     "metadata": {},
     "output_type": "display_data"
    }
   ],
   "source": [
    "# Import required libraries\n",
    "import pandas as pd\n",
    "import plotly.express as px\n",
    "\n",
    "def load_and_clean_data(file_path):\n",
    "    \"\"\"Load and clean the dataset.\"\"\"\n",
    "    # Load the data\n",
    "    df = pd.read_excel(file_path)\n",
    "    # ... [The rest of your cleaning code]\n",
    "    return df_clean  # Assuming df_clean is defined somewhere in your cleaning code\n",
    "\n",
    "def plot_total_houses_trend(df, peak_year, peak_value, lowest_year, lowest_value, last_year, last_value):\n",
    "    \"\"\"Plot the trend in the total number of houses started over the years using Plotly for interactivity.\"\"\"\n",
    "    \n",
    "    # Create the interactive plot\n",
    "    fig = px.line(df, x='Year', y='Total_Dwellings',\n",
    "                  title='<b>Trend in the Total Number of Houses Started (1998 - 2023)</b>',\n",
    "                  labels={'Total_Dwellings': 'Total Number of Houses Started'},\n",
    "                  template='plotly_white')\n",
    "    \n",
    "    # Customize the plot\n",
    "    fig.update_layout(\n",
    "        font=dict(\n",
    "            family=\"Arial, monospace\",\n",
    "            size=25,  # Увеличение размера шрифта для основного текста\n",
    "        ),\n",
    "        title_font=dict(size=42, family=\"Open Sans, sans-serif\"),  # Увеличение размера шрифта для заголовка\n",
    "        xaxis_title_font=dict(size=28), # Увеличение размера шрифта для названия оси X\n",
    "        xaxis_tickfont=dict(size=25),  # Увеличение размера шрифта для делений оси X\n",
    "        yaxis_title_font=dict(size=28), # Увеличение размера шрифта для названия оси Y\n",
    "        yaxis_tickfont=dict(size=25),  # Увеличение размера шрифта для делений оси Y\n",
    "        height=800,  # Задание высоты графика\n",
    "        annotations=[\n",
    "            dict(x=lowest_year, y=lowest_value, xref=\"x\", yref=\"y\",\n",
    "                 text=f\"<b>Lowest: {lowest_year}, {lowest_value:,}</b>\", showarrow=True, arrowhead=7, ax=0, ay=40, font=dict(size=25)),  # Увеличение размера шрифта для аннотаций\n",
    "            dict(x=last_year, y=last_value, xref=\"x\", yref=\"y\",\n",
    "                 text=f\"<b>Latest: {last_year}, {last_value:,}</b>\", showarrow=True, arrowhead=7, ax=0, ay=-40, font=dict(size=25))  # Увеличение размера шрифта для аннотаций\n",
    "        ]\n",
    "    )\n",
    "    \n",
    "    fig.update_yaxes(range=[0, df['Total_Dwellings'].max() + 500])  # Start y-axis from 0\n",
    "    \n",
    "    # Show the plot\n",
    "    fig.show()\n",
    "\n",
    "# Assuming df_clean is your cleaned DataFrame\n",
    "df_clean = load_and_clean_data(file_path)\n",
    "\n",
    "# Identify the peak, the lowest, and the last point for \"Total_Dwellings\"\n",
    "peak_point_total = df_clean[df_clean['Total_Dwellings'] == df_clean['Total_Dwellings'].max()]\n",
    "lowest_point_total = df_clean[df_clean['Total_Dwellings'] == df_clean['Total_Dwellings'].min()]\n",
    "last_point_total = df_clean[df_clean['Year'] == df_clean['Year'].max()]\n",
    "\n",
    "# Extract the year and total number of houses started for these points\n",
    "peak_year_total, peak_value_total = int(peak_point_total['Year'].iloc[0]), int(peak_point_total['Total_Dwellings'].iloc[0])\n",
    "lowest_year_total, lowest_value_total = int(lowest_point_total['Year'].iloc[0]), int(lowest_point_total['Total_Dwellings'].iloc[0])\n",
    "last_year_total, last_value_total = int(last_point_total['Year'].iloc[0]), int(last_point_total['Total_Dwellings'].iloc[0])\n",
    "\n",
    "# Plot the trend in the total number of houses started over the years\n",
    "plot_total_houses_trend(df_clean, peak_year_total, peak_value_total, lowest_year_total, lowest_value_total, last_year_total, last_value_total)\n"
   ]
  },
  {
   "cell_type": "code",
   "execution_count": 2,
   "metadata": {},
   "outputs": [],
   "source": [
    "# Import required libraries\n",
    "import pandas as pd\n",
    "import matplotlib.pyplot as plt\n",
    "import seaborn as sns\n",
    "\n",
    "def load_and_clean_data(file_path):\n",
    "    \"\"\"\n",
    "    Load and clean the dataset.\n",
    "    \n",
    "    Parameters:\n",
    "        file_path (str): The path to the Excel file.\n",
    "        \n",
    "    Returns:\n",
    "        pd.DataFrame: The cleaned DataFrame.\n",
    "    \"\"\"\n",
    "    # Load the data from Excel file\n",
    "    df = pd.read_excel(file_path)\n",
    "    \n",
    "    # Remove unnecessary header rows and reset index\n",
    "    df_clean = df.iloc[3:].reset_index(drop=True)\n",
    "    \n",
    "    # Set appropriate column names\n",
    "    column_names = [\n",
    "        \"Year\", \"Total_Dwellings\", \"Total_Index\", \"Family_Houses\",\n",
    "        \"Family_Houses_Index\", \"Multi_Dwelling_Buildings\",\n",
    "        \"Multi_Dwelling_Buildings_Index\", \"Change_Existing_Family_Houses\",\n",
    "        \"Change_Existing_Family_Houses_Index\", \"Change_Existing_Multi_Dwelling_Buildings\",\n",
    "        \"Change_Existing_Multi_Dwelling_Buildings_Index\", \"Non_Residential_Buildings\",\n",
    "        \"Non_Residential_Buildings_Index\"\n",
    "    ]\n",
    "    df_clean.columns = column_names\n",
    "    \n",
    "    # Drop rows where 'Year' is NaN\n",
    "    df_clean = df_clean.dropna(subset=['Year'])\n",
    "    \n",
    "    # Filter rows containing only 4-digit years and convert them to numeric type\n",
    "    df_clean = df_clean[df_clean['Year'].astype(str).str.isnumeric()]\n",
    "    df_clean['Year'] = pd.to_numeric(df_clean['Year'])\n",
    "    \n",
    "    return df_clean\n",
    "\n",
    "def plot_family_houses_trend(df):\n",
    "    \"\"\"\n",
    "    Plot the trend in the number of family houses started over the years.\n",
    "    \n",
    "    Parameters:\n",
    "        df (pd.DataFrame): The DataFrame containing the cleaned data.\n",
    "    \"\"\"\n",
    "    # Set plot aesthetics\n",
    "    sns.set(style=\"whitegrid\")\n",
    "    plt.figure(figsize=(8, 4))\n",
    "    \n",
    "    # Create the plot\n",
    "    sns.lineplot(x='Year', y='Family_Houses', data=df, marker='o')\n",
    "    \n",
    "    # Customize the plot\n",
    "    plt.title('Trend in the Number of Family Houses Started (1998 - 2023)', fontsize=16)\n",
    "    plt.xlabel('Year', fontsize=14)\n",
    "    plt.ylabel('Number of Family Houses Started', fontsize=14)\n",
    "    plt.xticks(fontsize=12)\n",
    "    plt.yticks(fontsize=12)\n",
    "    \n",
    "    # Show the plot\n",
    "    plt.show()\n",
    "\n",
    "# Main code\n",
    "if __name__ == \"__main__\":\n",
    "    # Path to the Excel file\n",
    "    file_path = 'data/Housing construction dwellings started 1998 - 2023.xlsx'  # Replace with your file path\n",
    "    \n",
    "    # Load and clean the data\n",
    "    df_clean = load_and_clean_data(file_path)"
   ]
  },
  {
   "cell_type": "code",
   "execution_count": 10,
   "metadata": {},
   "outputs": [
    {
     "data": {
      "application/vnd.plotly.v1+json": {
       "config": {
        "plotlyServerURL": "https://plot.ly"
       },
       "data": [
        {
         "hovertemplate": "Year=%{x}<br>Total Number of Houses Started=%{y}<extra></extra>",
         "legendgroup": "",
         "line": {
          "color": "#636efa",
          "dash": "solid"
         },
         "marker": {
          "symbol": "circle"
         },
         "mode": "lines",
         "name": "",
         "orientation": "h",
         "showlegend": false,
         "type": "scatter",
         "x": [
          1998,
          1999,
          2000,
          2001,
          2002,
          2003,
          2004,
          2005,
          2006,
          2007,
          2008,
          2009,
          2010,
          2011,
          2012,
          2013,
          2014,
          2015,
          2016,
          2017,
          2018,
          2019,
          2020,
          2021,
          2022
         ],
         "xaxis": "x",
         "y": [
          35027,
          32900,
          32377,
          28983,
          33606,
          36496,
          39037,
          40381,
          43747,
          43796,
          43531,
          37319,
          28135,
          27535,
          23853,
          22108,
          24351,
          26378,
          27224,
          31521,
          33121,
          38677,
          35254,
          44992,
          42242
         ],
         "yaxis": "y"
        }
       ],
       "layout": {
        "annotations": [
         {
          "arrowhead": 7,
          "ax": 0,
          "ay": 40,
          "showarrow": true,
          "text": "<b>Lowest: 2013, 22,108</b>",
          "x": 2013,
          "xref": "x",
          "y": 22108,
          "yref": "y"
         },
         {
          "arrowhead": 7,
          "ax": 0,
          "ay": -40,
          "showarrow": true,
          "text": "<b>Latest: 2022, 42,242</b>",
          "x": 2022,
          "xref": "x",
          "y": 42242,
          "yref": "y"
         }
        ],
        "font": {
         "family": "Arial, monospace",
         "size": 14
        },
        "legend": {
         "tracegroupgap": 0
        },
        "template": {
         "data": {
          "bar": [
           {
            "error_x": {
             "color": "#2a3f5f"
            },
            "error_y": {
             "color": "#2a3f5f"
            },
            "marker": {
             "line": {
              "color": "white",
              "width": 0.5
             },
             "pattern": {
              "fillmode": "overlay",
              "size": 10,
              "solidity": 0.2
             }
            },
            "type": "bar"
           }
          ],
          "barpolar": [
           {
            "marker": {
             "line": {
              "color": "white",
              "width": 0.5
             },
             "pattern": {
              "fillmode": "overlay",
              "size": 10,
              "solidity": 0.2
             }
            },
            "type": "barpolar"
           }
          ],
          "carpet": [
           {
            "aaxis": {
             "endlinecolor": "#2a3f5f",
             "gridcolor": "#C8D4E3",
             "linecolor": "#C8D4E3",
             "minorgridcolor": "#C8D4E3",
             "startlinecolor": "#2a3f5f"
            },
            "baxis": {
             "endlinecolor": "#2a3f5f",
             "gridcolor": "#C8D4E3",
             "linecolor": "#C8D4E3",
             "minorgridcolor": "#C8D4E3",
             "startlinecolor": "#2a3f5f"
            },
            "type": "carpet"
           }
          ],
          "choropleth": [
           {
            "colorbar": {
             "outlinewidth": 0,
             "ticks": ""
            },
            "type": "choropleth"
           }
          ],
          "contour": [
           {
            "colorbar": {
             "outlinewidth": 0,
             "ticks": ""
            },
            "colorscale": [
             [
              0,
              "#0d0887"
             ],
             [
              0.1111111111111111,
              "#46039f"
             ],
             [
              0.2222222222222222,
              "#7201a8"
             ],
             [
              0.3333333333333333,
              "#9c179e"
             ],
             [
              0.4444444444444444,
              "#bd3786"
             ],
             [
              0.5555555555555556,
              "#d8576b"
             ],
             [
              0.6666666666666666,
              "#ed7953"
             ],
             [
              0.7777777777777778,
              "#fb9f3a"
             ],
             [
              0.8888888888888888,
              "#fdca26"
             ],
             [
              1,
              "#f0f921"
             ]
            ],
            "type": "contour"
           }
          ],
          "contourcarpet": [
           {
            "colorbar": {
             "outlinewidth": 0,
             "ticks": ""
            },
            "type": "contourcarpet"
           }
          ],
          "heatmap": [
           {
            "colorbar": {
             "outlinewidth": 0,
             "ticks": ""
            },
            "colorscale": [
             [
              0,
              "#0d0887"
             ],
             [
              0.1111111111111111,
              "#46039f"
             ],
             [
              0.2222222222222222,
              "#7201a8"
             ],
             [
              0.3333333333333333,
              "#9c179e"
             ],
             [
              0.4444444444444444,
              "#bd3786"
             ],
             [
              0.5555555555555556,
              "#d8576b"
             ],
             [
              0.6666666666666666,
              "#ed7953"
             ],
             [
              0.7777777777777778,
              "#fb9f3a"
             ],
             [
              0.8888888888888888,
              "#fdca26"
             ],
             [
              1,
              "#f0f921"
             ]
            ],
            "type": "heatmap"
           }
          ],
          "heatmapgl": [
           {
            "colorbar": {
             "outlinewidth": 0,
             "ticks": ""
            },
            "colorscale": [
             [
              0,
              "#0d0887"
             ],
             [
              0.1111111111111111,
              "#46039f"
             ],
             [
              0.2222222222222222,
              "#7201a8"
             ],
             [
              0.3333333333333333,
              "#9c179e"
             ],
             [
              0.4444444444444444,
              "#bd3786"
             ],
             [
              0.5555555555555556,
              "#d8576b"
             ],
             [
              0.6666666666666666,
              "#ed7953"
             ],
             [
              0.7777777777777778,
              "#fb9f3a"
             ],
             [
              0.8888888888888888,
              "#fdca26"
             ],
             [
              1,
              "#f0f921"
             ]
            ],
            "type": "heatmapgl"
           }
          ],
          "histogram": [
           {
            "marker": {
             "pattern": {
              "fillmode": "overlay",
              "size": 10,
              "solidity": 0.2
             }
            },
            "type": "histogram"
           }
          ],
          "histogram2d": [
           {
            "colorbar": {
             "outlinewidth": 0,
             "ticks": ""
            },
            "colorscale": [
             [
              0,
              "#0d0887"
             ],
             [
              0.1111111111111111,
              "#46039f"
             ],
             [
              0.2222222222222222,
              "#7201a8"
             ],
             [
              0.3333333333333333,
              "#9c179e"
             ],
             [
              0.4444444444444444,
              "#bd3786"
             ],
             [
              0.5555555555555556,
              "#d8576b"
             ],
             [
              0.6666666666666666,
              "#ed7953"
             ],
             [
              0.7777777777777778,
              "#fb9f3a"
             ],
             [
              0.8888888888888888,
              "#fdca26"
             ],
             [
              1,
              "#f0f921"
             ]
            ],
            "type": "histogram2d"
           }
          ],
          "histogram2dcontour": [
           {
            "colorbar": {
             "outlinewidth": 0,
             "ticks": ""
            },
            "colorscale": [
             [
              0,
              "#0d0887"
             ],
             [
              0.1111111111111111,
              "#46039f"
             ],
             [
              0.2222222222222222,
              "#7201a8"
             ],
             [
              0.3333333333333333,
              "#9c179e"
             ],
             [
              0.4444444444444444,
              "#bd3786"
             ],
             [
              0.5555555555555556,
              "#d8576b"
             ],
             [
              0.6666666666666666,
              "#ed7953"
             ],
             [
              0.7777777777777778,
              "#fb9f3a"
             ],
             [
              0.8888888888888888,
              "#fdca26"
             ],
             [
              1,
              "#f0f921"
             ]
            ],
            "type": "histogram2dcontour"
           }
          ],
          "mesh3d": [
           {
            "colorbar": {
             "outlinewidth": 0,
             "ticks": ""
            },
            "type": "mesh3d"
           }
          ],
          "parcoords": [
           {
            "line": {
             "colorbar": {
              "outlinewidth": 0,
              "ticks": ""
             }
            },
            "type": "parcoords"
           }
          ],
          "pie": [
           {
            "automargin": true,
            "type": "pie"
           }
          ],
          "scatter": [
           {
            "fillpattern": {
             "fillmode": "overlay",
             "size": 10,
             "solidity": 0.2
            },
            "type": "scatter"
           }
          ],
          "scatter3d": [
           {
            "line": {
             "colorbar": {
              "outlinewidth": 0,
              "ticks": ""
             }
            },
            "marker": {
             "colorbar": {
              "outlinewidth": 0,
              "ticks": ""
             }
            },
            "type": "scatter3d"
           }
          ],
          "scattercarpet": [
           {
            "marker": {
             "colorbar": {
              "outlinewidth": 0,
              "ticks": ""
             }
            },
            "type": "scattercarpet"
           }
          ],
          "scattergeo": [
           {
            "marker": {
             "colorbar": {
              "outlinewidth": 0,
              "ticks": ""
             }
            },
            "type": "scattergeo"
           }
          ],
          "scattergl": [
           {
            "marker": {
             "colorbar": {
              "outlinewidth": 0,
              "ticks": ""
             }
            },
            "type": "scattergl"
           }
          ],
          "scattermapbox": [
           {
            "marker": {
             "colorbar": {
              "outlinewidth": 0,
              "ticks": ""
             }
            },
            "type": "scattermapbox"
           }
          ],
          "scatterpolar": [
           {
            "marker": {
             "colorbar": {
              "outlinewidth": 0,
              "ticks": ""
             }
            },
            "type": "scatterpolar"
           }
          ],
          "scatterpolargl": [
           {
            "marker": {
             "colorbar": {
              "outlinewidth": 0,
              "ticks": ""
             }
            },
            "type": "scatterpolargl"
           }
          ],
          "scatterternary": [
           {
            "marker": {
             "colorbar": {
              "outlinewidth": 0,
              "ticks": ""
             }
            },
            "type": "scatterternary"
           }
          ],
          "surface": [
           {
            "colorbar": {
             "outlinewidth": 0,
             "ticks": ""
            },
            "colorscale": [
             [
              0,
              "#0d0887"
             ],
             [
              0.1111111111111111,
              "#46039f"
             ],
             [
              0.2222222222222222,
              "#7201a8"
             ],
             [
              0.3333333333333333,
              "#9c179e"
             ],
             [
              0.4444444444444444,
              "#bd3786"
             ],
             [
              0.5555555555555556,
              "#d8576b"
             ],
             [
              0.6666666666666666,
              "#ed7953"
             ],
             [
              0.7777777777777778,
              "#fb9f3a"
             ],
             [
              0.8888888888888888,
              "#fdca26"
             ],
             [
              1,
              "#f0f921"
             ]
            ],
            "type": "surface"
           }
          ],
          "table": [
           {
            "cells": {
             "fill": {
              "color": "#EBF0F8"
             },
             "line": {
              "color": "white"
             }
            },
            "header": {
             "fill": {
              "color": "#C8D4E3"
             },
             "line": {
              "color": "white"
             }
            },
            "type": "table"
           }
          ]
         },
         "layout": {
          "annotationdefaults": {
           "arrowcolor": "#2a3f5f",
           "arrowhead": 0,
           "arrowwidth": 1
          },
          "autotypenumbers": "strict",
          "coloraxis": {
           "colorbar": {
            "outlinewidth": 0,
            "ticks": ""
           }
          },
          "colorscale": {
           "diverging": [
            [
             0,
             "#8e0152"
            ],
            [
             0.1,
             "#c51b7d"
            ],
            [
             0.2,
             "#de77ae"
            ],
            [
             0.3,
             "#f1b6da"
            ],
            [
             0.4,
             "#fde0ef"
            ],
            [
             0.5,
             "#f7f7f7"
            ],
            [
             0.6,
             "#e6f5d0"
            ],
            [
             0.7,
             "#b8e186"
            ],
            [
             0.8,
             "#7fbc41"
            ],
            [
             0.9,
             "#4d9221"
            ],
            [
             1,
             "#276419"
            ]
           ],
           "sequential": [
            [
             0,
             "#0d0887"
            ],
            [
             0.1111111111111111,
             "#46039f"
            ],
            [
             0.2222222222222222,
             "#7201a8"
            ],
            [
             0.3333333333333333,
             "#9c179e"
            ],
            [
             0.4444444444444444,
             "#bd3786"
            ],
            [
             0.5555555555555556,
             "#d8576b"
            ],
            [
             0.6666666666666666,
             "#ed7953"
            ],
            [
             0.7777777777777778,
             "#fb9f3a"
            ],
            [
             0.8888888888888888,
             "#fdca26"
            ],
            [
             1,
             "#f0f921"
            ]
           ],
           "sequentialminus": [
            [
             0,
             "#0d0887"
            ],
            [
             0.1111111111111111,
             "#46039f"
            ],
            [
             0.2222222222222222,
             "#7201a8"
            ],
            [
             0.3333333333333333,
             "#9c179e"
            ],
            [
             0.4444444444444444,
             "#bd3786"
            ],
            [
             0.5555555555555556,
             "#d8576b"
            ],
            [
             0.6666666666666666,
             "#ed7953"
            ],
            [
             0.7777777777777778,
             "#fb9f3a"
            ],
            [
             0.8888888888888888,
             "#fdca26"
            ],
            [
             1,
             "#f0f921"
            ]
           ]
          },
          "colorway": [
           "#636efa",
           "#EF553B",
           "#00cc96",
           "#ab63fa",
           "#FFA15A",
           "#19d3f3",
           "#FF6692",
           "#B6E880",
           "#FF97FF",
           "#FECB52"
          ],
          "font": {
           "color": "#2a3f5f"
          },
          "geo": {
           "bgcolor": "white",
           "lakecolor": "white",
           "landcolor": "white",
           "showlakes": true,
           "showland": true,
           "subunitcolor": "#C8D4E3"
          },
          "hoverlabel": {
           "align": "left"
          },
          "hovermode": "closest",
          "mapbox": {
           "style": "light"
          },
          "paper_bgcolor": "white",
          "plot_bgcolor": "white",
          "polar": {
           "angularaxis": {
            "gridcolor": "#EBF0F8",
            "linecolor": "#EBF0F8",
            "ticks": ""
           },
           "bgcolor": "white",
           "radialaxis": {
            "gridcolor": "#EBF0F8",
            "linecolor": "#EBF0F8",
            "ticks": ""
           }
          },
          "scene": {
           "xaxis": {
            "backgroundcolor": "white",
            "gridcolor": "#DFE8F3",
            "gridwidth": 2,
            "linecolor": "#EBF0F8",
            "showbackground": true,
            "ticks": "",
            "zerolinecolor": "#EBF0F8"
           },
           "yaxis": {
            "backgroundcolor": "white",
            "gridcolor": "#DFE8F3",
            "gridwidth": 2,
            "linecolor": "#EBF0F8",
            "showbackground": true,
            "ticks": "",
            "zerolinecolor": "#EBF0F8"
           },
           "zaxis": {
            "backgroundcolor": "white",
            "gridcolor": "#DFE8F3",
            "gridwidth": 2,
            "linecolor": "#EBF0F8",
            "showbackground": true,
            "ticks": "",
            "zerolinecolor": "#EBF0F8"
           }
          },
          "shapedefaults": {
           "line": {
            "color": "#2a3f5f"
           }
          },
          "ternary": {
           "aaxis": {
            "gridcolor": "#DFE8F3",
            "linecolor": "#A2B1C6",
            "ticks": ""
           },
           "baxis": {
            "gridcolor": "#DFE8F3",
            "linecolor": "#A2B1C6",
            "ticks": ""
           },
           "bgcolor": "white",
           "caxis": {
            "gridcolor": "#DFE8F3",
            "linecolor": "#A2B1C6",
            "ticks": ""
           }
          },
          "title": {
           "x": 0.05
          },
          "xaxis": {
           "automargin": true,
           "gridcolor": "#EBF0F8",
           "linecolor": "#EBF0F8",
           "ticks": "",
           "title": {
            "standoff": 15
           },
           "zerolinecolor": "#EBF0F8",
           "zerolinewidth": 2
          },
          "yaxis": {
           "automargin": true,
           "gridcolor": "#EBF0F8",
           "linecolor": "#EBF0F8",
           "ticks": "",
           "title": {
            "standoff": 15
           },
           "zerolinecolor": "#EBF0F8",
           "zerolinewidth": 2
          }
         }
        },
        "title": {
         "font": {
          "family": "Arial, bold",
          "size": 24
         },
         "text": "<b>Trend in the Total Number of Houses Started (1998 - 2023)</b>"
        },
        "xaxis": {
         "anchor": "y",
         "domain": [
          0,
          1
         ],
         "title": {
          "text": "Year"
         }
        },
        "yaxis": {
         "anchor": "x",
         "domain": [
          0,
          1
         ],
         "range": [
          0,
          45492
         ],
         "title": {
          "text": "Total Number of Houses Started"
         }
        }
       }
      }
     },
     "metadata": {},
     "output_type": "display_data"
    }
   ],
   "source": [
    "# Import required libraries\n",
    "import pandas as pd\n",
    "import plotly.express as px\n",
    "\n",
    "def load_and_clean_data(file_path):\n",
    "    \"\"\"Load and clean the dataset.\"\"\"\n",
    "    # Load the data\n",
    "    df = pd.read_excel(file_path)\n",
    "    # ... [The rest of your cleaning code]\n",
    "    return df_clean  # Assuming df_clean is defined somewhere in your cleaning code\n",
    "\n",
    "def plot_total_houses_trend(df, peak_year, peak_value, lowest_year, lowest_value, last_year, last_value):\n",
    "    \"\"\"Plot the trend in the total number of houses started over the years using Plotly for interactivity.\"\"\"\n",
    "    \n",
    "    # Create the interactive plot\n",
    "    fig = px.line(df, x='Year', y='Total_Dwellings',\n",
    "                  title='<b>Trend in the Total Number of Houses Started (1998 - 2023)</b>',\n",
    "                  labels={'Total_Dwellings': 'Total Number of Houses Started'},\n",
    "                  template='plotly_white')\n",
    "    \n",
    "    # Customize the plot\n",
    "    fig.update_layout(\n",
    "        font=dict(\n",
    "            family=\"Arial, monospace\",\n",
    "            size=14,\n",
    "        ),\n",
    "        title_font=dict(size=24, family=\"Arial, bold\"),\n",
    "        annotations=[\n",
    "            dict(x=lowest_year, y=lowest_value, xref=\"x\", yref=\"y\",\n",
    "                 text=f\"<b>Lowest: {lowest_year}, {lowest_value:,}</b>\", showarrow=True, arrowhead=7, ax=0, ay=40),\n",
    "            dict(x=last_year, y=last_value, xref=\"x\", yref=\"y\",\n",
    "                 text=f\"<b>Latest: {last_year}, {last_value:,}</b>\", showarrow=True, arrowhead=7, ax=0, ay=-40)\n",
    "        ]\n",
    "    )\n",
    "    \n",
    "    fig.update_yaxes(range=[0, df['Total_Dwellings'].max() + 500])  # Start y-axis from 0\n",
    "    \n",
    "    # Show the plot\n",
    "    fig.show()\n",
    "\n",
    "# Assuming df_clean is your cleaned DataFrame\n",
    "df_clean = load_and_clean_data(file_path)\n",
    "\n",
    "# Identify the peak, the lowest, and the last point for \"Total_Dwellings\"\n",
    "peak_point_total = df_clean[df_clean['Total_Dwellings'] == df_clean['Total_Dwellings'].max()]\n",
    "lowest_point_total = df_clean[df_clean['Total_Dwellings'] == df_clean['Total_Dwellings'].min()]\n",
    "last_point_total = df_clean[df_clean['Year'] == df_clean['Year'].max()]\n",
    "\n",
    "# Extract the year and total number of houses started for these points\n",
    "peak_year_total, peak_value_total = int(peak_point_total['Year'].iloc[0]), int(peak_point_total['Total_Dwellings'].iloc[0])\n",
    "lowest_year_total, lowest_value_total = int(lowest_point_total['Year'].iloc[0]), int(lowest_point_total['Total_Dwellings'].iloc[0])\n",
    "last_year_total, last_value_total = int(last_point_total['Year'].iloc[0]), int(last_point_total['Total_Dwellings'].iloc[0])\n",
    "\n",
    "# Plot the trend in the total number of houses started over the years\n",
    "plot_total_houses_trend(df_clean, peak_year_total, peak_value_total, lowest_year_total, lowest_value_total, last_year_total, last_value_total)\n"
   ]
  },
  {
   "cell_type": "code",
   "execution_count": 5,
   "metadata": {},
   "outputs": [
    {
     "data": {
      "application/vnd.plotly.v1+json": {
       "config": {
        "plotlyServerURL": "https://plot.ly"
       },
       "data": [
        {
         "line": {
          "color": "lightgrey",
          "width": 2
         },
         "mode": "lines",
         "name": "Total",
         "type": "scatter",
         "x": [
          1998,
          1999,
          2000,
          2001,
          2002,
          2003,
          2004,
          2005,
          2006,
          2007,
          2008,
          2009,
          2010,
          2011,
          2012,
          2013,
          2014,
          2015,
          2016,
          2017,
          2018,
          2019,
          2020,
          2021,
          2022
         ],
         "y": [
          35027,
          32900,
          32377,
          28983,
          33606,
          36496,
          39037,
          40381,
          43747,
          43796,
          43531,
          37319,
          28135,
          27535,
          23853,
          22108,
          24351,
          26378,
          27224,
          31521,
          33121,
          38677,
          35254,
          44992,
          42242
         ]
        },
        {
         "line": {
          "color": "green",
          "width": 3
         },
         "mode": "lines",
         "name": "In Family Houses",
         "type": "scatter",
         "x": [
          1998,
          1999,
          2000,
          2001,
          2002,
          2003,
          2004,
          2005,
          2006,
          2007,
          2008,
          2009,
          2010,
          2011,
          2012,
          2013,
          2014,
          2015,
          2016,
          2017,
          2018,
          2019,
          2020,
          2021,
          2022
         ],
         "y": [
          14933,
          12489,
          12177,
          12895,
          13659,
          17250,
          17485,
          17579,
          20620,
          20990,
          22918,
          18750,
          16611,
          17060,
          14399,
          12490,
          12440,
          13727,
          15865,
          18678,
          19186,
          19947,
          19446,
          21271,
          20109
         ]
        },
        {
         "line": {
          "color": "red",
          "width": 3
         },
         "mode": "lines",
         "name": "In Multi-Dwelling Buildings",
         "type": "scatter",
         "x": [
          1998,
          1999,
          2000,
          2001,
          2002,
          2003,
          2004,
          2005,
          2006,
          2007,
          2008,
          2009,
          2010,
          2011,
          2012,
          2013,
          2014,
          2015,
          2016,
          2017,
          2018,
          2019,
          2020,
          2021,
          2022
         ],
         "y": [
          7961,
          7192,
          7097,
          6276,
          10246,
          10043,
          11901,
          13574,
          14541,
          15283,
          13724,
          11045,
          5798,
          5013,
          4022,
          4857,
          6657,
          6848,
          5870,
          7244,
          7280,
          12491,
          9426,
          17098,
          15189
         ]
        },
        {
         "line": {
          "color": "purple",
          "width": 3
         },
         "mode": "lines",
         "name": "In Non-Residential Buildings",
         "type": "scatter",
         "x": [
          1998,
          1999,
          2000,
          2001,
          2002,
          2003,
          2004,
          2005,
          2006,
          2007,
          2008,
          2009,
          2010,
          2011,
          2012,
          2013,
          2014,
          2015,
          2016,
          2017,
          2018,
          2019,
          2020,
          2021,
          2022
         ],
         "y": [
          593,
          1247,
          1453,
          1384,
          1225,
          1167,
          1318,
          1932,
          2182,
          2166,
          1872,
          2458,
          1564,
          1175,
          1277,
          1100,
          1566,
          1635,
          1540,
          1325,
          1872,
          1390,
          1313,
          1676,
          2018
         ]
        }
       ],
       "layout": {
        "annotations": [
         {
          "showarrow": false,
          "text": "Source: Czech Republic Housing Data (1998 - 2023)",
          "x": 0.5,
          "xref": "paper",
          "y": -0.4,
          "yref": "paper"
         }
        ],
        "font": {
         "family": "Arial, monospace",
         "size": 14
        },
        "plot_bgcolor": "white",
        "template": {
         "data": {
          "bar": [
           {
            "error_x": {
             "color": "#2a3f5f"
            },
            "error_y": {
             "color": "#2a3f5f"
            },
            "marker": {
             "line": {
              "color": "#E5ECF6",
              "width": 0.5
             },
             "pattern": {
              "fillmode": "overlay",
              "size": 10,
              "solidity": 0.2
             }
            },
            "type": "bar"
           }
          ],
          "barpolar": [
           {
            "marker": {
             "line": {
              "color": "#E5ECF6",
              "width": 0.5
             },
             "pattern": {
              "fillmode": "overlay",
              "size": 10,
              "solidity": 0.2
             }
            },
            "type": "barpolar"
           }
          ],
          "carpet": [
           {
            "aaxis": {
             "endlinecolor": "#2a3f5f",
             "gridcolor": "white",
             "linecolor": "white",
             "minorgridcolor": "white",
             "startlinecolor": "#2a3f5f"
            },
            "baxis": {
             "endlinecolor": "#2a3f5f",
             "gridcolor": "white",
             "linecolor": "white",
             "minorgridcolor": "white",
             "startlinecolor": "#2a3f5f"
            },
            "type": "carpet"
           }
          ],
          "choropleth": [
           {
            "colorbar": {
             "outlinewidth": 0,
             "ticks": ""
            },
            "type": "choropleth"
           }
          ],
          "contour": [
           {
            "colorbar": {
             "outlinewidth": 0,
             "ticks": ""
            },
            "colorscale": [
             [
              0,
              "#0d0887"
             ],
             [
              0.1111111111111111,
              "#46039f"
             ],
             [
              0.2222222222222222,
              "#7201a8"
             ],
             [
              0.3333333333333333,
              "#9c179e"
             ],
             [
              0.4444444444444444,
              "#bd3786"
             ],
             [
              0.5555555555555556,
              "#d8576b"
             ],
             [
              0.6666666666666666,
              "#ed7953"
             ],
             [
              0.7777777777777778,
              "#fb9f3a"
             ],
             [
              0.8888888888888888,
              "#fdca26"
             ],
             [
              1,
              "#f0f921"
             ]
            ],
            "type": "contour"
           }
          ],
          "contourcarpet": [
           {
            "colorbar": {
             "outlinewidth": 0,
             "ticks": ""
            },
            "type": "contourcarpet"
           }
          ],
          "heatmap": [
           {
            "colorbar": {
             "outlinewidth": 0,
             "ticks": ""
            },
            "colorscale": [
             [
              0,
              "#0d0887"
             ],
             [
              0.1111111111111111,
              "#46039f"
             ],
             [
              0.2222222222222222,
              "#7201a8"
             ],
             [
              0.3333333333333333,
              "#9c179e"
             ],
             [
              0.4444444444444444,
              "#bd3786"
             ],
             [
              0.5555555555555556,
              "#d8576b"
             ],
             [
              0.6666666666666666,
              "#ed7953"
             ],
             [
              0.7777777777777778,
              "#fb9f3a"
             ],
             [
              0.8888888888888888,
              "#fdca26"
             ],
             [
              1,
              "#f0f921"
             ]
            ],
            "type": "heatmap"
           }
          ],
          "heatmapgl": [
           {
            "colorbar": {
             "outlinewidth": 0,
             "ticks": ""
            },
            "colorscale": [
             [
              0,
              "#0d0887"
             ],
             [
              0.1111111111111111,
              "#46039f"
             ],
             [
              0.2222222222222222,
              "#7201a8"
             ],
             [
              0.3333333333333333,
              "#9c179e"
             ],
             [
              0.4444444444444444,
              "#bd3786"
             ],
             [
              0.5555555555555556,
              "#d8576b"
             ],
             [
              0.6666666666666666,
              "#ed7953"
             ],
             [
              0.7777777777777778,
              "#fb9f3a"
             ],
             [
              0.8888888888888888,
              "#fdca26"
             ],
             [
              1,
              "#f0f921"
             ]
            ],
            "type": "heatmapgl"
           }
          ],
          "histogram": [
           {
            "marker": {
             "pattern": {
              "fillmode": "overlay",
              "size": 10,
              "solidity": 0.2
             }
            },
            "type": "histogram"
           }
          ],
          "histogram2d": [
           {
            "colorbar": {
             "outlinewidth": 0,
             "ticks": ""
            },
            "colorscale": [
             [
              0,
              "#0d0887"
             ],
             [
              0.1111111111111111,
              "#46039f"
             ],
             [
              0.2222222222222222,
              "#7201a8"
             ],
             [
              0.3333333333333333,
              "#9c179e"
             ],
             [
              0.4444444444444444,
              "#bd3786"
             ],
             [
              0.5555555555555556,
              "#d8576b"
             ],
             [
              0.6666666666666666,
              "#ed7953"
             ],
             [
              0.7777777777777778,
              "#fb9f3a"
             ],
             [
              0.8888888888888888,
              "#fdca26"
             ],
             [
              1,
              "#f0f921"
             ]
            ],
            "type": "histogram2d"
           }
          ],
          "histogram2dcontour": [
           {
            "colorbar": {
             "outlinewidth": 0,
             "ticks": ""
            },
            "colorscale": [
             [
              0,
              "#0d0887"
             ],
             [
              0.1111111111111111,
              "#46039f"
             ],
             [
              0.2222222222222222,
              "#7201a8"
             ],
             [
              0.3333333333333333,
              "#9c179e"
             ],
             [
              0.4444444444444444,
              "#bd3786"
             ],
             [
              0.5555555555555556,
              "#d8576b"
             ],
             [
              0.6666666666666666,
              "#ed7953"
             ],
             [
              0.7777777777777778,
              "#fb9f3a"
             ],
             [
              0.8888888888888888,
              "#fdca26"
             ],
             [
              1,
              "#f0f921"
             ]
            ],
            "type": "histogram2dcontour"
           }
          ],
          "mesh3d": [
           {
            "colorbar": {
             "outlinewidth": 0,
             "ticks": ""
            },
            "type": "mesh3d"
           }
          ],
          "parcoords": [
           {
            "line": {
             "colorbar": {
              "outlinewidth": 0,
              "ticks": ""
             }
            },
            "type": "parcoords"
           }
          ],
          "pie": [
           {
            "automargin": true,
            "type": "pie"
           }
          ],
          "scatter": [
           {
            "fillpattern": {
             "fillmode": "overlay",
             "size": 10,
             "solidity": 0.2
            },
            "type": "scatter"
           }
          ],
          "scatter3d": [
           {
            "line": {
             "colorbar": {
              "outlinewidth": 0,
              "ticks": ""
             }
            },
            "marker": {
             "colorbar": {
              "outlinewidth": 0,
              "ticks": ""
             }
            },
            "type": "scatter3d"
           }
          ],
          "scattercarpet": [
           {
            "marker": {
             "colorbar": {
              "outlinewidth": 0,
              "ticks": ""
             }
            },
            "type": "scattercarpet"
           }
          ],
          "scattergeo": [
           {
            "marker": {
             "colorbar": {
              "outlinewidth": 0,
              "ticks": ""
             }
            },
            "type": "scattergeo"
           }
          ],
          "scattergl": [
           {
            "marker": {
             "colorbar": {
              "outlinewidth": 0,
              "ticks": ""
             }
            },
            "type": "scattergl"
           }
          ],
          "scattermapbox": [
           {
            "marker": {
             "colorbar": {
              "outlinewidth": 0,
              "ticks": ""
             }
            },
            "type": "scattermapbox"
           }
          ],
          "scatterpolar": [
           {
            "marker": {
             "colorbar": {
              "outlinewidth": 0,
              "ticks": ""
             }
            },
            "type": "scatterpolar"
           }
          ],
          "scatterpolargl": [
           {
            "marker": {
             "colorbar": {
              "outlinewidth": 0,
              "ticks": ""
             }
            },
            "type": "scatterpolargl"
           }
          ],
          "scatterternary": [
           {
            "marker": {
             "colorbar": {
              "outlinewidth": 0,
              "ticks": ""
             }
            },
            "type": "scatterternary"
           }
          ],
          "surface": [
           {
            "colorbar": {
             "outlinewidth": 0,
             "ticks": ""
            },
            "colorscale": [
             [
              0,
              "#0d0887"
             ],
             [
              0.1111111111111111,
              "#46039f"
             ],
             [
              0.2222222222222222,
              "#7201a8"
             ],
             [
              0.3333333333333333,
              "#9c179e"
             ],
             [
              0.4444444444444444,
              "#bd3786"
             ],
             [
              0.5555555555555556,
              "#d8576b"
             ],
             [
              0.6666666666666666,
              "#ed7953"
             ],
             [
              0.7777777777777778,
              "#fb9f3a"
             ],
             [
              0.8888888888888888,
              "#fdca26"
             ],
             [
              1,
              "#f0f921"
             ]
            ],
            "type": "surface"
           }
          ],
          "table": [
           {
            "cells": {
             "fill": {
              "color": "#EBF0F8"
             },
             "line": {
              "color": "white"
             }
            },
            "header": {
             "fill": {
              "color": "#C8D4E3"
             },
             "line": {
              "color": "white"
             }
            },
            "type": "table"
           }
          ]
         },
         "layout": {
          "annotationdefaults": {
           "arrowcolor": "#2a3f5f",
           "arrowhead": 0,
           "arrowwidth": 1
          },
          "autotypenumbers": "strict",
          "coloraxis": {
           "colorbar": {
            "outlinewidth": 0,
            "ticks": ""
           }
          },
          "colorscale": {
           "diverging": [
            [
             0,
             "#8e0152"
            ],
            [
             0.1,
             "#c51b7d"
            ],
            [
             0.2,
             "#de77ae"
            ],
            [
             0.3,
             "#f1b6da"
            ],
            [
             0.4,
             "#fde0ef"
            ],
            [
             0.5,
             "#f7f7f7"
            ],
            [
             0.6,
             "#e6f5d0"
            ],
            [
             0.7,
             "#b8e186"
            ],
            [
             0.8,
             "#7fbc41"
            ],
            [
             0.9,
             "#4d9221"
            ],
            [
             1,
             "#276419"
            ]
           ],
           "sequential": [
            [
             0,
             "#0d0887"
            ],
            [
             0.1111111111111111,
             "#46039f"
            ],
            [
             0.2222222222222222,
             "#7201a8"
            ],
            [
             0.3333333333333333,
             "#9c179e"
            ],
            [
             0.4444444444444444,
             "#bd3786"
            ],
            [
             0.5555555555555556,
             "#d8576b"
            ],
            [
             0.6666666666666666,
             "#ed7953"
            ],
            [
             0.7777777777777778,
             "#fb9f3a"
            ],
            [
             0.8888888888888888,
             "#fdca26"
            ],
            [
             1,
             "#f0f921"
            ]
           ],
           "sequentialminus": [
            [
             0,
             "#0d0887"
            ],
            [
             0.1111111111111111,
             "#46039f"
            ],
            [
             0.2222222222222222,
             "#7201a8"
            ],
            [
             0.3333333333333333,
             "#9c179e"
            ],
            [
             0.4444444444444444,
             "#bd3786"
            ],
            [
             0.5555555555555556,
             "#d8576b"
            ],
            [
             0.6666666666666666,
             "#ed7953"
            ],
            [
             0.7777777777777778,
             "#fb9f3a"
            ],
            [
             0.8888888888888888,
             "#fdca26"
            ],
            [
             1,
             "#f0f921"
            ]
           ]
          },
          "colorway": [
           "#636efa",
           "#EF553B",
           "#00cc96",
           "#ab63fa",
           "#FFA15A",
           "#19d3f3",
           "#FF6692",
           "#B6E880",
           "#FF97FF",
           "#FECB52"
          ],
          "font": {
           "color": "#2a3f5f"
          },
          "geo": {
           "bgcolor": "white",
           "lakecolor": "white",
           "landcolor": "#E5ECF6",
           "showlakes": true,
           "showland": true,
           "subunitcolor": "white"
          },
          "hoverlabel": {
           "align": "left"
          },
          "hovermode": "closest",
          "mapbox": {
           "style": "light"
          },
          "paper_bgcolor": "white",
          "plot_bgcolor": "#E5ECF6",
          "polar": {
           "angularaxis": {
            "gridcolor": "white",
            "linecolor": "white",
            "ticks": ""
           },
           "bgcolor": "#E5ECF6",
           "radialaxis": {
            "gridcolor": "white",
            "linecolor": "white",
            "ticks": ""
           }
          },
          "scene": {
           "xaxis": {
            "backgroundcolor": "#E5ECF6",
            "gridcolor": "white",
            "gridwidth": 2,
            "linecolor": "white",
            "showbackground": true,
            "ticks": "",
            "zerolinecolor": "white"
           },
           "yaxis": {
            "backgroundcolor": "#E5ECF6",
            "gridcolor": "white",
            "gridwidth": 2,
            "linecolor": "white",
            "showbackground": true,
            "ticks": "",
            "zerolinecolor": "white"
           },
           "zaxis": {
            "backgroundcolor": "#E5ECF6",
            "gridcolor": "white",
            "gridwidth": 2,
            "linecolor": "white",
            "showbackground": true,
            "ticks": "",
            "zerolinecolor": "white"
           }
          },
          "shapedefaults": {
           "line": {
            "color": "#2a3f5f"
           }
          },
          "ternary": {
           "aaxis": {
            "gridcolor": "white",
            "linecolor": "white",
            "ticks": ""
           },
           "baxis": {
            "gridcolor": "white",
            "linecolor": "white",
            "ticks": ""
           },
           "bgcolor": "#E5ECF6",
           "caxis": {
            "gridcolor": "white",
            "linecolor": "white",
            "ticks": ""
           }
          },
          "title": {
           "x": 0.05
          },
          "xaxis": {
           "automargin": true,
           "gridcolor": "white",
           "linecolor": "white",
           "ticks": "",
           "title": {
            "standoff": 15
           },
           "zerolinecolor": "white",
           "zerolinewidth": 2
          },
          "yaxis": {
           "automargin": true,
           "gridcolor": "white",
           "linecolor": "white",
           "ticks": "",
           "title": {
            "standoff": 15
           },
           "zerolinecolor": "white",
           "zerolinewidth": 2
          }
         }
        },
        "title": {
         "font": {
          "family": "Arial, bold",
          "size": 24
         },
         "text": "<b>Housing construction, dwellings started: (1998 - 2023)</b>"
        },
        "xaxis": {
         "title": {
          "text": "Year"
         }
        },
        "yaxis": {
         "range": [
          0,
          45492
         ],
         "title": {
          "text": "Number of Dwellings"
         }
        }
       }
      }
     },
     "metadata": {},
     "output_type": "display_data"
    }
   ],
   "source": [
    "# Import required libraries\n",
    "import pandas as pd\n",
    "import plotly.graph_objects as go\n",
    "\n",
    "def load_and_clean_data(file_path):\n",
    "    \"\"\"Load and clean the dataset.\"\"\"\n",
    "    # Load the data\n",
    "    df = pd.read_excel(file_path)\n",
    "    # ... [The rest of your cleaning code]\n",
    "    return df_clean\n",
    "\n",
    "# Updating the function to plot the trend for selected categories with specific customization\n",
    "def plot_selected_trends_improved(df):\n",
    "    \"\"\"Plot the trend in selected categories following principles from 'Storytelling With Data'.\"\"\"\n",
    "    \n",
    "    # Create a subplot with shared x-axis\n",
    "    fig = go.Figure()\n",
    "\n",
    "    # Add traces for the selected categories with balanced colors\n",
    "    fig.add_trace(go.Scatter(x=df['Year'], y=df['Total_Dwellings'], mode='lines', name='Total',\n",
    "                             line=dict(color='lightgrey', width=2)))\n",
    "    fig.add_trace(go.Scatter(x=df['Year'], y=df['Family_Houses'], mode='lines', name='In Family Houses',\n",
    "                             line=dict(color='green', width=3)))\n",
    "    fig.add_trace(go.Scatter(x=df['Year'], y=df['Multi_Dwelling_Buildings'], mode='lines', name='In Multi-Dwelling Buildings',\n",
    "                             line=dict(color='red', width=3)))\n",
    "    fig.add_trace(go.Scatter(x=df['Year'], y=df['Non_Residential_Buildings'], mode='lines', name='In Non-Residential Buildings',\n",
    "                             line=dict(color='purple', width=3)))\n",
    "    \n",
    "    # Customize the layout, following the principles from \"Storytelling With Data\"\n",
    "    fig.update_layout(\n",
    "        plot_bgcolor='white',  # White background color\n",
    "        title='<b>Housing construction, dwellings started: (1998 - 2023)</b>',\n",
    "        xaxis_title='Year',\n",
    "        yaxis_title='Number of Dwellings',\n",
    "        font=dict(\n",
    "            family=\"Arial, monospace\",\n",
    "            size=14\n",
    "        ),\n",
    "        title_font=dict(\n",
    "            size=24,\n",
    "            family=\"Arial, bold\"\n",
    "        ),\n",
    "        annotations=[\n",
    "            dict(x=0.5, y=-0.4, xref=\"paper\", yref=\"paper\",\n",
    "                 text=\"Source: Czech Republic Housing Data (1998 - 2023)\", showarrow=False)\n",
    "        ]\n",
    "    )\n",
    "    \n",
    "    fig.update_yaxes(range=[0, df[['Total_Dwellings', 'Family_Houses', 'Multi_Dwelling_Buildings', 'Non_Residential_Buildings']].max().max() + 500])  # Start y-axis from 0\n",
    "    \n",
    "    # Show the plot\n",
    "    fig.show()\n",
    "\n",
    "# Assume df_clean is loaded and cleaned data (replace with actual cleaning steps)\n",
    "# df_clean = load_and_clean_data(file_path)\n",
    "\n",
    "# Filter the dataset to keep only the selected categories\n",
    "selected_columns = ['Year', 'Total_Dwellings', 'Family_Houses', 'Multi_Dwelling_Buildings', 'Non_Residential_Buildings']\n",
    "df_selected = df_clean[selected_columns]\n",
    "\n",
    "# Plot the trends in the selected categories with improved styling\n",
    "plot_selected_trends_improved(df_selected)\n"
   ]
  },
  {
   "cell_type": "markdown",
   "metadata": {},
   "source": [
    "The data suggests that the construction industry in the Czech Republic has been on an upward trajectory in the past decade, with multi-dwelling buildings playing an increasingly important role. This growth can be attributed to factors like urbanization, economic stability, and changing housing preferences. However, the construction industry is still subject to cyclical patterns and external economic factors that can impact its performance."
   ]
  },
  {
   "cell_type": "code",
   "execution_count": 17,
   "metadata": {},
   "outputs": [
    {
     "name": "stdout",
     "output_type": "stream",
     "text": [
      "Average Price per sqm: 3342 EUR\n",
      "Annual Price Growth: 0.1842%\n",
      "Affordability Index: 13.31\n",
      "Rental Market Trend: Prices in the rental segment will grow in the next few months.\n",
      "Potential ROI in one year: 430.91748 EUR\n"
     ]
    }
   ],
   "source": [
    "# Extracted data points from the document\n",
    "average_price_per_sqm = 3342  # EUR/sqm (Page 9)\n",
    "annual_price_growth = 0.1842  # % (Page 9)\n",
    "affordability_index = 13.31  # Number of gross annual salaries needed to purchase a new dwelling (Page 15)\n",
    "rental_market_trend = \"Prices in the rental segment will grow in the next few months.\"  # (Page 20)\n",
    "\n",
    "# Calculating potential ROI (Return on Investment) based on average price and annual growth\n",
    "initial_investment = average_price_per_sqm * 70  # Assuming 70 sqm house cabin\n",
    "potential_roi = initial_investment * (annual_price_growth / 100)\n",
    "\n",
    "# Displaying key insights\n",
    "print(f\"Average Price per sqm: {average_price_per_sqm} EUR\")\n",
    "print(f\"Annual Price Growth: {annual_price_growth}%\")\n",
    "print(f\"Affordability Index: {affordability_index}\")\n",
    "print(f\"Rental Market Trend: {rental_market_trend}\")\n",
    "print(f\"Potential ROI in one year: {potential_roi} EUR\")\n"
   ]
  },
  {
   "cell_type": "markdown",
   "metadata": {},
   "source": [
    "## Comparison to other European countries"
   ]
  },
  {
   "cell_type": "markdown",
   "metadata": {},
   "source": [
    "<img src=\"https://i.imgur.com/5gFxFfc.png\" width=\"1000\" align=\"center\"/>"
   ]
  },
  {
   "cell_type": "markdown",
   "metadata": {},
   "source": [
    "### Bullet Points for Investment in Czech Republic\n",
    "\n",
    "- **Strong Annual Growth**: The Czech Republic has an annual growth rate of 12.1% in housing prices, which is higher than the European average. This indicates a strong and growing market.\n",
    "    \n",
    "- **Competitive Pricing**: With an average transaction price of 3,753 EUR/sqm, the Czech Republic offers competitive pricing compared to other European countries like Germany (4,800 EUR/sqm) and Austria (4,925 EUR/sqm).\n",
    "    \n",
    "- **Resilience to Market Fluctuations**: Unlike countries like the United Kingdom and Denmark, which have seen drops in average transaction prices, the Czech Republic has shown consistent growth.\n",
    "    \n",
    "- **Affordable Compared to Top Markets**: While not the cheapest, the Czech Republic offers a more affordable entry point than the top 5 most expensive countries in Europe, providing a balanced investment opportunity.\n",
    "    \n",
    "- **High Attractiveness Score**: Based on our calculations, the Czech Republic has a high attractiveness score, making it one of the best choices for real estate investment in the EU.\n",
    "\n",
    "*data from 2022*\n",
    "\n",
    "## Remember This\n",
    "\n",
    "\"Invest in the Czech Republic: Strong Growth, Competitive Pricing.\""
   ]
  },
  {
   "cell_type": "code",
   "execution_count": 32,
   "metadata": {},
   "outputs": [
    {
     "data": {
      "image/png": "[encoded data removed]",
      "text/plain": [
       "<Figure size 1200x800 with 1 Axes>"
      ]
     },
     "metadata": {},
     "output_type": "display_data"
    }
   ],
   "source": [
    "import matplotlib.pyplot as plt\n",
    "import numpy as np\n",
    "\n",
    "# Data\n",
    "# Czech republic shoud be in bold\n",
    "countries = [\"United Kingdom\", \"Denmark\", \"Israel\", \"Czech Republic\", \"Norway#\", \"Romania*\", \"Poland\", \"Serbia*\", \"Croatia\", \"Hungary\"]\n",
    "percent_changes = [-17.9, -9.6, 7.3, 7.4, 9.8, 12.8, 17.1, 17.1, 20.2, 25.2]\n",
    "\n",
    "# Sort data for the plot\n",
    "sorted_indices = np.argsort(percent_changes)\n",
    "sorted_countries = [countries[i] for i in sorted_indices]\n",
    "sorted_changes = [percent_changes[i] for i in sorted_indices]\n",
    "\n",
    "# Create plot\n",
    "fig, ax = plt.subplots(figsize=(12, 8))\n",
    "bars = ax.barh(sorted_countries, sorted_changes, color=['#d62728' if x < 0 else '#2ca02c' for x in sorted_changes])\n",
    "\n",
    "# Annotate each bar with the percentage\n",
    "for bar in bars:\n",
    "    width = bar.get_width()\n",
    "    label_text = f\"{width:.1f}%\"\n",
    "    label_color = 'white' if abs(width) > 10 else 'black'  # Adjust label color based on bar length for readability\n",
    "    ax.text(bar.get_x() + width/2, bar.get_y() + bar.get_height()/2, label_text,\n",
    "            va='center', ha='center', color=label_color, weight='bold', fontsize=10)\n",
    "\n",
    "# Title and labels\n",
    "ax.set_title(\"Annual Change of Average Transaction Price for a New Dwelling\", fontsize=16, fontweight='bold', pad=20)\n",
    "ax.set_xlabel(\"Annual change\", fontsize=12, labelpad=15)\n",
    "ax.set_xlim([-20, 30])  # Define x-axis limit\n",
    "\n",
    "# Reduce clutter\n",
    "ax.xaxis.set_ticks_position('bottom')\n",
    "ax.yaxis.set_ticks_position('left')\n",
    "ax.spines['right'].set_visible(False)\n",
    "ax.spines['top'].set_visible(False)\n",
    "ax.spines['left'].set_visible(False)\n",
    "ax.grid(axis='x', linestyle='--', alpha=0.6)\n",
    "\n",
    "# Show the plot\n",
    "plt.tight_layout()\n",
    "plt.show()\n"
   ]
  },
  {
   "cell_type": "markdown",
   "metadata": {},
   "source": [
    "### Presentation Bullet Points:\n",
    "\n",
    "**Annual Change of Average Transaction Price for a New Dwelling**\n",
    "\n",
    "- The **Czech Republic** saw an increase of **7.4%**.\n",
    "- This is relatively modest when compared to countries like **Bosna and Hercegovina** at **27.0%** or **Hungary** at **25.2%**.\n",
    "- However, it's a positive growth, unlike countries such as the **United Kingdom**, which experienced a **\\-17.9%** decrease.\n",
    "- Out of the 11 countries listed, 9 experienced positive growth while 2 experienced a decline.\n",
    "- The Czech Republic's growth is consistent with the overall upward trend seen in the majority of countries."
   ]
  },
  {
   "cell_type": "markdown",
   "metadata": {},
   "source": [
    "## Rental market"
   ]
  },
  {
   "cell_type": "code",
   "execution_count": 31,
   "metadata": {},
   "outputs": [
    {
     "data": {
      "image/png": "[encoded data removed]",
      "text/plain": [
       "<Figure size 1500x800 with 1 Axes>"
      ]
     },
     "metadata": {},
     "output_type": "display_data"
    }
   ],
   "source": [
    "import matplotlib.pyplot as plt\n",
    "\n",
    "# List of cities in order\n",
    "cities = [\n",
    "    \"Dublin (IE)\", \"Oslo (NO)\", \"London (formerly UK)\", \"Amsterdam (NL)\", \"Paris (FR)\", \n",
    "    \"Barcelona (ES)\", \"Madrid (ES)\", \"Copenhagen (DK)\", \"Berlin (DE)\", \"Munich (DE)\",\n",
    "    \"Cork (IE)\", \"The Hague (NL)\", \"Rotterdam (NL)\", \"Frankfurt (DE)\", \"Hamburg (DE)\",\n",
    "    \"Marseille (FR)\", \"Warsaw (PL)\", \"Brussels (BE)\", \"Lisbon (PT)\", \"Rome (IT)\",\n",
    "    \"Gdańsk (PL)\", \"Vienna (AT)\", \"Bilbao (ES)\", \"Wrocław (PL)\", \"Vilnius (LT)\",\n",
    "    \"Brno (CZ)\", \"Kraków (PL)\", \"Antwerp (BE)\", \"Ljubljana (SI)\", \"Manchester (UK)\",\n",
    "    \"Ghent (BE)\", \"Poznań (PL)\", \"Athens (GR)\", \"Budapest (HU)\", \"Riga (LV)\",\n",
    "    \"Turin (IT)\", \"Thessaloniki (GR)\", \"Pardubice (CZ)\", \"Kaunas (LT)\", \"Varna (BG)\",\n",
    "    \"Göteborg (SE)\", \"Sofia (BG)\", \"Burgas (BG)\"\n",
    "    # ... extend this list with all cities\n",
    "]\n",
    "\n",
    "# Corresponding rent values\n",
    "rents = [\n",
    "    33.8, 32.5, 28.1, 25.8, 25.7, \n",
    "    22.5, 21.5, 21.5, 20.7, 20.2, \n",
    "    19.8, 19.5, 19.0, 19.0, 17.9, \n",
    "    17.5, 16.5, 16.5, 15.8, 15.5, \n",
    "    14.4, 14.2, 14.0, 13.7, 13.3, \n",
    "    13.3, 13.2, 12.7, 12.4, 12.2, \n",
    "    12.0, 11.6, 11.5, 11.2, 11.1, \n",
    "    10.9, 10.6, 10.5, 10.4, 10.2, \n",
    "    9.7, 9.5, 9.3 \n",
    "    # ... extend this list with all rent values\n",
    "]\n",
    "\n",
    "\n",
    "import matplotlib.pyplot as plt\n",
    "\n",
    "# List of cities and their corresponding rents\n",
    "# ... [keeping the given lists as is]\n",
    "\n",
    "# Creating the bar chart\n",
    "fig, ax = plt.subplots(figsize=(15, 8))\n",
    "\n",
    "bars = ax.bar(cities, rents, color='lightgray')  # Default color\n",
    "\n",
    "# Highlight and annotate Czech Republic cities\n",
    "for city, bar, rent in zip(cities, bars, rents):\n",
    "    if \"CZ\" in city:\n",
    "        bar.set_color('blue')\n",
    "        bar.set_label('Czech Republic')\n",
    "        height = bar.get_height()\n",
    "        ax.annotate('{:.1f} EUR/sqm'.format(rent),  # Formatting to 1 decimal place\n",
    "                    xy=(bar.get_x() + bar.get_width() / 2, height),\n",
    "                    xytext=(0, 15),  # 3 points vertical offset\n",
    "                    textcoords=\"offset points\",\n",
    "                    ha='center', va='bottom',\n",
    "                    fontsize=16, color='black')\n",
    "\n",
    "# Simplifying the graph\n",
    "ax.spines['right'].set_visible(False)\n",
    "ax.spines['top'].set_visible(False)\n",
    "ax.legend(loc='upper right')\n",
    "plt.xticks(rotation=45, ha='right')\n",
    "plt.ylabel('Average Monthly Rent (EUR/sqm)')\n",
    "plt.title('Average Monthly Rent Across European Cities')\n",
    "\n",
    "# Displaying the chart\n",
    "plt.tight_layout()\n",
    "plt.show()\n"
   ]
  },
  {
   "cell_type": "markdown",
   "metadata": {},
   "source": [
    "## Economic Context\n",
    "\n",
    "1. **Eurozone Economic Recovery**: The Eurozone has shown resilience in overcoming the 2012-2013 Sovereign Debt Crisis and the economic impacts of the Covid-19 pandemic. It has returned to pre-pandemic levels as of 2022.\n",
    "2. **Current Economic Outlook**: Economic stagnation was avoided in Q4 2022 thanks to government relief measures and lower energy prices. IMF forecasts a growth of 0.8% for 2023.\n",
    "3. **Monetary Policy**: Central banks are under pressure to tackle inflation, with the ECB and the Fed raising interest rates.\n",
    "\n",
    "### Implications for Real Estate\n",
    "\n",
    "1. **Inflation and Interest Rates**: The current high inflation rate and tightening of monetary policy could lead to higher mortgage rates, affecting demand in the property market.\n",
    "2. **GDP and Housing Market**: There is a high positive correlation between GDP growth and house prices. GDP growth could be supportive for real estate prices.\n",
    "3. **Risk Factors**: The main risks include failure to contain financial stability and higher inflation than expected, which could lead to even tighter monetary conditions.\n",
    "\n",
    "### Specifics to Czech Republic (Housing market and Interest rates)\n",
    "\n",
    "1. **Housing Market Sensitivity**: The housing market is generally sensitive to changes in economic conditions like GDP growth and interest rates.\n",
    "2. **Real Estate Prices**: Given the GDP outlook, there could be support for real estate prices, but this is balanced by the tightening monetary conditions."
   ]
  },
  {
   "cell_type": "code",
   "execution_count": 39,
   "metadata": {},
   "outputs": [
    {
     "data": {
      "application/vnd.plotly.v1+json": {
       "config": {
        "plotlyServerURL": "https://plot.ly"
       },
       "data": [
        {
         "hovertemplate": "Characteristic=Albania<br>Year=%{x}<br>Percentage Growth=%{y}<extra></extra>",
         "legendgroup": "Albania",
         "line": {
          "color": "#636efa",
          "dash": "solid"
         },
         "marker": {
          "symbol": "circle"
         },
         "mode": "lines",
         "name": "Albania",
         "orientation": "v",
         "showlegend": true,
         "type": "scatter",
         "x": [
          "2022",
          "2023"
         ],
         "xaxis": "x",
         "y": [
          3.7,
          2.2
         ],
         "yaxis": "y"
        },
        {
         "hovertemplate": "Characteristic=Andorra<br>Year=%{x}<br>Percentage Growth=%{y}<extra></extra>",
         "legendgroup": "Andorra",
         "line": {
          "color": "#EF553B",
          "dash": "solid"
         },
         "marker": {
          "symbol": "circle"
         },
         "mode": "lines",
         "name": "Andorra",
         "orientation": "v",
         "showlegend": true,
         "type": "scatter",
         "x": [
          "2022",
          "2023"
         ],
         "xaxis": "x",
         "y": [
          8.7,
          1.3
         ],
         "yaxis": "y"
        },
        {
         "hovertemplate": "Characteristic=Austria<br>Year=%{x}<br>Percentage Growth=%{y}<extra></extra>",
         "legendgroup": "Austria",
         "line": {
          "color": "#00cc96",
          "dash": "solid"
         },
         "marker": {
          "symbol": "circle"
         },
         "mode": "lines",
         "name": "Austria",
         "orientation": "v",
         "showlegend": true,
         "type": "scatter",
         "x": [
          "2022",
          "2023"
         ],
         "xaxis": "x",
         "y": [
          5,
          0.4
         ],
         "yaxis": "y"
        },
        {
         "hovertemplate": "Characteristic=Belarus<br>Year=%{x}<br>Percentage Growth=%{y}<extra></extra>",
         "legendgroup": "Belarus",
         "line": {
          "color": "#ab63fa",
          "dash": "solid"
         },
         "marker": {
          "symbol": "circle"
         },
         "mode": "lines",
         "name": "Belarus",
         "orientation": "v",
         "showlegend": true,
         "type": "scatter",
         "x": [
          "2022",
          "2023"
         ],
         "xaxis": "x",
         "y": [
          -4.7,
          0.7
         ],
         "yaxis": "y"
        },
        {
         "hovertemplate": "Characteristic=Belgium<br>Year=%{x}<br>Percentage Growth=%{y}<extra></extra>",
         "legendgroup": "Belgium",
         "line": {
          "color": "#FFA15A",
          "dash": "solid"
         },
         "marker": {
          "symbol": "circle"
         },
         "mode": "lines",
         "name": "Belgium",
         "orientation": "v",
         "showlegend": true,
         "type": "scatter",
         "x": [
          "2022",
          "2023"
         ],
         "xaxis": "x",
         "y": [
          3.1,
          0.7
         ],
         "yaxis": "y"
        },
        {
         "hovertemplate": "Characteristic=Bosnia and Herzegovina<br>Year=%{x}<br>Percentage Growth=%{y}<extra></extra>",
         "legendgroup": "Bosnia and Herzegovina",
         "line": {
          "color": "#19d3f3",
          "dash": "solid"
         },
         "marker": {
          "symbol": "circle"
         },
         "mode": "lines",
         "name": "Bosnia and Herzegovina",
         "orientation": "v",
         "showlegend": true,
         "type": "scatter",
         "x": [
          "2022",
          "2023"
         ],
         "xaxis": "x",
         "y": [
          3.8,
          2
         ],
         "yaxis": "y"
        },
        {
         "hovertemplate": "Characteristic=United Kingdom<br>Year=%{x}<br>Percentage Growth=%{y}<extra></extra>",
         "legendgroup": "United Kingdom",
         "line": {
          "color": "#FF6692",
          "dash": "solid"
         },
         "marker": {
          "symbol": "circle"
         },
         "mode": "lines",
         "name": "United Kingdom",
         "orientation": "v",
         "showlegend": true,
         "type": "scatter",
         "x": [
          "2022",
          "2023"
         ],
         "xaxis": "x",
         "y": [
          4,
          -0.3
         ],
         "yaxis": "y"
        }
       ],
       "layout": {
        "annotations": [
         {
          "showarrow": false,
          "text": "Source: statista.com",
          "x": 0.95,
          "xref": "paper",
          "y": -0.2,
          "yref": "paper"
         }
        ],
        "legend": {
         "title": {
          "text": "Characteristic"
         },
         "tracegroupgap": 0
        },
        "template": {
         "data": {
          "bar": [
           {
            "error_x": {
             "color": "#2a3f5f"
            },
            "error_y": {
             "color": "#2a3f5f"
            },
            "marker": {
             "line": {
              "color": "#E5ECF6",
              "width": 0.5
             },
             "pattern": {
              "fillmode": "overlay",
              "size": 10,
              "solidity": 0.2
             }
            },
            "type": "bar"
           }
          ],
          "barpolar": [
           {
            "marker": {
             "line": {
              "color": "#E5ECF6",
              "width": 0.5
             },
             "pattern": {
              "fillmode": "overlay",
              "size": 10,
              "solidity": 0.2
             }
            },
            "type": "barpolar"
           }
          ],
          "carpet": [
           {
            "aaxis": {
             "endlinecolor": "#2a3f5f",
             "gridcolor": "white",
             "linecolor": "white",
             "minorgridcolor": "white",
             "startlinecolor": "#2a3f5f"
            },
            "baxis": {
             "endlinecolor": "#2a3f5f",
             "gridcolor": "white",
             "linecolor": "white",
             "minorgridcolor": "white",
             "startlinecolor": "#2a3f5f"
            },
            "type": "carpet"
           }
          ],
          "choropleth": [
           {
            "colorbar": {
             "outlinewidth": 0,
             "ticks": ""
            },
            "type": "choropleth"
           }
          ],
          "contour": [
           {
            "colorbar": {
             "outlinewidth": 0,
             "ticks": ""
            },
            "colorscale": [
             [
              0,
              "#0d0887"
             ],
             [
              0.1111111111111111,
              "#46039f"
             ],
             [
              0.2222222222222222,
              "#7201a8"
             ],
             [
              0.3333333333333333,
              "#9c179e"
             ],
             [
              0.4444444444444444,
              "#bd3786"
             ],
             [
              0.5555555555555556,
              "#d8576b"
             ],
             [
              0.6666666666666666,
              "#ed7953"
             ],
             [
              0.7777777777777778,
              "#fb9f3a"
             ],
             [
              0.8888888888888888,
              "#fdca26"
             ],
             [
              1,
              "#f0f921"
             ]
            ],
            "type": "contour"
           }
          ],
          "contourcarpet": [
           {
            "colorbar": {
             "outlinewidth": 0,
             "ticks": ""
            },
            "type": "contourcarpet"
           }
          ],
          "heatmap": [
           {
            "colorbar": {
             "outlinewidth": 0,
             "ticks": ""
            },
            "colorscale": [
             [
              0,
              "#0d0887"
             ],
             [
              0.1111111111111111,
              "#46039f"
             ],
             [
              0.2222222222222222,
              "#7201a8"
             ],
             [
              0.3333333333333333,
              "#9c179e"
             ],
             [
              0.4444444444444444,
              "#bd3786"
             ],
             [
              0.5555555555555556,
              "#d8576b"
             ],
             [
              0.6666666666666666,
              "#ed7953"
             ],
             [
              0.7777777777777778,
              "#fb9f3a"
             ],
             [
              0.8888888888888888,
              "#fdca26"
             ],
             [
              1,
              "#f0f921"
             ]
            ],
            "type": "heatmap"
           }
          ],
          "heatmapgl": [
           {
            "colorbar": {
             "outlinewidth": 0,
             "ticks": ""
            },
            "colorscale": [
             [
              0,
              "#0d0887"
             ],
             [
              0.1111111111111111,
              "#46039f"
             ],
             [
              0.2222222222222222,
              "#7201a8"
             ],
             [
              0.3333333333333333,
              "#9c179e"
             ],
             [
              0.4444444444444444,
              "#bd3786"
             ],
             [
              0.5555555555555556,
              "#d8576b"
             ],
             [
              0.6666666666666666,
              "#ed7953"
             ],
             [
              0.7777777777777778,
              "#fb9f3a"
             ],
             [
              0.8888888888888888,
              "#fdca26"
             ],
             [
              1,
              "#f0f921"
             ]
            ],
            "type": "heatmapgl"
           }
          ],
          "histogram": [
           {
            "marker": {
             "pattern": {
              "fillmode": "overlay",
              "size": 10,
              "solidity": 0.2
             }
            },
            "type": "histogram"
           }
          ],
          "histogram2d": [
           {
            "colorbar": {
             "outlinewidth": 0,
             "ticks": ""
            },
            "colorscale": [
             [
              0,
              "#0d0887"
             ],
             [
              0.1111111111111111,
              "#46039f"
             ],
             [
              0.2222222222222222,
              "#7201a8"
             ],
             [
              0.3333333333333333,
              "#9c179e"
             ],
             [
              0.4444444444444444,
              "#bd3786"
             ],
             [
              0.5555555555555556,
              "#d8576b"
             ],
             [
              0.6666666666666666,
              "#ed7953"
             ],
             [
              0.7777777777777778,
              "#fb9f3a"
             ],
             [
              0.8888888888888888,
              "#fdca26"
             ],
             [
              1,
              "#f0f921"
             ]
            ],
            "type": "histogram2d"
           }
          ],
          "histogram2dcontour": [
           {
            "colorbar": {
             "outlinewidth": 0,
             "ticks": ""
            },
            "colorscale": [
             [
              0,
              "#0d0887"
             ],
             [
              0.1111111111111111,
              "#46039f"
             ],
             [
              0.2222222222222222,
              "#7201a8"
             ],
             [
              0.3333333333333333,
              "#9c179e"
             ],
             [
              0.4444444444444444,
              "#bd3786"
             ],
             [
              0.5555555555555556,
              "#d8576b"
             ],
             [
              0.6666666666666666,
              "#ed7953"
             ],
             [
              0.7777777777777778,
              "#fb9f3a"
             ],
             [
              0.8888888888888888,
              "#fdca26"
             ],
             [
              1,
              "#f0f921"
             ]
            ],
            "type": "histogram2dcontour"
           }
          ],
          "mesh3d": [
           {
            "colorbar": {
             "outlinewidth": 0,
             "ticks": ""
            },
            "type": "mesh3d"
           }
          ],
          "parcoords": [
           {
            "line": {
             "colorbar": {
              "outlinewidth": 0,
              "ticks": ""
             }
            },
            "type": "parcoords"
           }
          ],
          "pie": [
           {
            "automargin": true,
            "type": "pie"
           }
          ],
          "scatter": [
           {
            "fillpattern": {
             "fillmode": "overlay",
             "size": 10,
             "solidity": 0.2
            },
            "type": "scatter"
           }
          ],
          "scatter3d": [
           {
            "line": {
             "colorbar": {
              "outlinewidth": 0,
              "ticks": ""
             }
            },
            "marker": {
             "colorbar": {
              "outlinewidth": 0,
              "ticks": ""
             }
            },
            "type": "scatter3d"
           }
          ],
          "scattercarpet": [
           {
            "marker": {
             "colorbar": {
              "outlinewidth": 0,
              "ticks": ""
             }
            },
            "type": "scattercarpet"
           }
          ],
          "scattergeo": [
           {
            "marker": {
             "colorbar": {
              "outlinewidth": 0,
              "ticks": ""
             }
            },
            "type": "scattergeo"
           }
          ],
          "scattergl": [
           {
            "marker": {
             "colorbar": {
              "outlinewidth": 0,
              "ticks": ""
             }
            },
            "type": "scattergl"
           }
          ],
          "scattermapbox": [
           {
            "marker": {
             "colorbar": {
              "outlinewidth": 0,
              "ticks": ""
             }
            },
            "type": "scattermapbox"
           }
          ],
          "scatterpolar": [
           {
            "marker": {
             "colorbar": {
              "outlinewidth": 0,
              "ticks": ""
             }
            },
            "type": "scatterpolar"
           }
          ],
          "scatterpolargl": [
           {
            "marker": {
             "colorbar": {
              "outlinewidth": 0,
              "ticks": ""
             }
            },
            "type": "scatterpolargl"
           }
          ],
          "scatterternary": [
           {
            "marker": {
             "colorbar": {
              "outlinewidth": 0,
              "ticks": ""
             }
            },
            "type": "scatterternary"
           }
          ],
          "surface": [
           {
            "colorbar": {
             "outlinewidth": 0,
             "ticks": ""
            },
            "colorscale": [
             [
              0,
              "#0d0887"
             ],
             [
              0.1111111111111111,
              "#46039f"
             ],
             [
              0.2222222222222222,
              "#7201a8"
             ],
             [
              0.3333333333333333,
              "#9c179e"
             ],
             [
              0.4444444444444444,
              "#bd3786"
             ],
             [
              0.5555555555555556,
              "#d8576b"
             ],
             [
              0.6666666666666666,
              "#ed7953"
             ],
             [
              0.7777777777777778,
              "#fb9f3a"
             ],
             [
              0.8888888888888888,
              "#fdca26"
             ],
             [
              1,
              "#f0f921"
             ]
            ],
            "type": "surface"
           }
          ],
          "table": [
           {
            "cells": {
             "fill": {
              "color": "#EBF0F8"
             },
             "line": {
              "color": "white"
             }
            },
            "header": {
             "fill": {
              "color": "#C8D4E3"
             },
             "line": {
              "color": "white"
             }
            },
            "type": "table"
           }
          ]
         },
         "layout": {
          "annotationdefaults": {
           "arrowcolor": "#2a3f5f",
           "arrowhead": 0,
           "arrowwidth": 1
          },
          "autotypenumbers": "strict",
          "coloraxis": {
           "colorbar": {
            "outlinewidth": 0,
            "ticks": ""
           }
          },
          "colorscale": {
           "diverging": [
            [
             0,
             "#8e0152"
            ],
            [
             0.1,
             "#c51b7d"
            ],
            [
             0.2,
             "#de77ae"
            ],
            [
             0.3,
             "#f1b6da"
            ],
            [
             0.4,
             "#fde0ef"
            ],
            [
             0.5,
             "#f7f7f7"
            ],
            [
             0.6,
             "#e6f5d0"
            ],
            [
             0.7,
             "#b8e186"
            ],
            [
             0.8,
             "#7fbc41"
            ],
            [
             0.9,
             "#4d9221"
            ],
            [
             1,
             "#276419"
            ]
           ],
           "sequential": [
            [
             0,
             "#0d0887"
            ],
            [
             0.1111111111111111,
             "#46039f"
            ],
            [
             0.2222222222222222,
             "#7201a8"
            ],
            [
             0.3333333333333333,
             "#9c179e"
            ],
            [
             0.4444444444444444,
             "#bd3786"
            ],
            [
             0.5555555555555556,
             "#d8576b"
            ],
            [
             0.6666666666666666,
             "#ed7953"
            ],
            [
             0.7777777777777778,
             "#fb9f3a"
            ],
            [
             0.8888888888888888,
             "#fdca26"
            ],
            [
             1,
             "#f0f921"
            ]
           ],
           "sequentialminus": [
            [
             0,
             "#0d0887"
            ],
            [
             0.1111111111111111,
             "#46039f"
            ],
            [
             0.2222222222222222,
             "#7201a8"
            ],
            [
             0.3333333333333333,
             "#9c179e"
            ],
            [
             0.4444444444444444,
             "#bd3786"
            ],
            [
             0.5555555555555556,
             "#d8576b"
            ],
            [
             0.6666666666666666,
             "#ed7953"
            ],
            [
             0.7777777777777778,
             "#fb9f3a"
            ],
            [
             0.8888888888888888,
             "#fdca26"
            ],
            [
             1,
             "#f0f921"
            ]
           ]
          },
          "colorway": [
           "#636efa",
           "#EF553B",
           "#00cc96",
           "#ab63fa",
           "#FFA15A",
           "#19d3f3",
           "#FF6692",
           "#B6E880",
           "#FF97FF",
           "#FECB52"
          ],
          "font": {
           "color": "#2a3f5f"
          },
          "geo": {
           "bgcolor": "white",
           "lakecolor": "white",
           "landcolor": "#E5ECF6",
           "showlakes": true,
           "showland": true,
           "subunitcolor": "white"
          },
          "hoverlabel": {
           "align": "left"
          },
          "hovermode": "closest",
          "mapbox": {
           "style": "light"
          },
          "paper_bgcolor": "white",
          "plot_bgcolor": "#E5ECF6",
          "polar": {
           "angularaxis": {
            "gridcolor": "white",
            "linecolor": "white",
            "ticks": ""
           },
           "bgcolor": "#E5ECF6",
           "radialaxis": {
            "gridcolor": "white",
            "linecolor": "white",
            "ticks": ""
           }
          },
          "scene": {
           "xaxis": {
            "backgroundcolor": "#E5ECF6",
            "gridcolor": "white",
            "gridwidth": 2,
            "linecolor": "white",
            "showbackground": true,
            "ticks": "",
            "zerolinecolor": "white"
           },
           "yaxis": {
            "backgroundcolor": "#E5ECF6",
            "gridcolor": "white",
            "gridwidth": 2,
            "linecolor": "white",
            "showbackground": true,
            "ticks": "",
            "zerolinecolor": "white"
           },
           "zaxis": {
            "backgroundcolor": "#E5ECF6",
            "gridcolor": "white",
            "gridwidth": 2,
            "linecolor": "white",
            "showbackground": true,
            "ticks": "",
            "zerolinecolor": "white"
           }
          },
          "shapedefaults": {
           "line": {
            "color": "#2a3f5f"
           }
          },
          "ternary": {
           "aaxis": {
            "gridcolor": "white",
            "linecolor": "white",
            "ticks": ""
           },
           "baxis": {
            "gridcolor": "white",
            "linecolor": "white",
            "ticks": ""
           },
           "bgcolor": "#E5ECF6",
           "caxis": {
            "gridcolor": "white",
            "linecolor": "white",
            "ticks": ""
           }
          },
          "title": {
           "x": 0.05
          },
          "xaxis": {
           "automargin": true,
           "gridcolor": "white",
           "linecolor": "white",
           "ticks": "",
           "title": {
            "standoff": 15
           },
           "zerolinecolor": "white",
           "zerolinewidth": 2
          },
          "yaxis": {
           "automargin": true,
           "gridcolor": "white",
           "linecolor": "white",
           "ticks": "",
           "title": {
            "standoff": 15
           },
           "zerolinecolor": "white",
           "zerolinewidth": 2
          }
         }
        },
        "title": {
         "text": "Country Wise Percentage Growth Over Years"
        },
        "xaxis": {
         "anchor": "y",
         "domain": [
          0,
          1
         ],
         "title": {
          "text": "Year"
         }
        },
        "yaxis": {
         "anchor": "x",
         "domain": [
          0,
          1
         ],
         "title": {
          "text": "Percentage Growth"
         }
        }
       }
      }
     },
     "metadata": {},
     "output_type": "display_data"
    }
   ],
   "source": [
    "# Import necessary libraries\n",
    "import pandas as pd\n",
    "import plotly.express as px\n",
    "\n",
    "# Convert data to dataframe\n",
    "data = {\n",
    "    \"Characteristic\": [\"Albania\", \"Andorra\", \"Austria\", \"Belarus\", \"Belgium\", \"Bosnia and Herzegovina\", \n",
    "                      # ... (include all countries)\n",
    "                      \"United Kingdom\"],\n",
    "    \"2022\": [3.7, 8.7, 5, -4.7, 3.1, 3.8, # ... (include data for all countries for 2022)\n",
    "             4],\n",
    "    \"2023\": [2.2, 1.3, 0.4, 0.7, 0.7, 2, # ... (include data for all countries for 2023)\n",
    "             -0.3],\n",
    "    # ... (continue with other years in similar fashion)\n",
    "}\n",
    "df = pd.DataFrame(data)\n",
    "\n",
    "# Melt the dataframe to get year as a separate column\n",
    "df_melted = df.melt(id_vars=\"Characteristic\", \n",
    "                    value_vars=df.columns[1:], \n",
    "                    var_name=\"Year\", \n",
    "                    value_name=\"Percentage Growth\")\n",
    "\n",
    "# Visualize the data with plotly express\n",
    "fig = px.line(df_melted, \n",
    "              x='Year', \n",
    "              y='Percentage Growth', \n",
    "              color='Characteristic', \n",
    "              title=\"Country Wise Percentage Growth Over Years\")\n",
    "\n",
    "# Highlight Czech Republic\n",
    "fig.update_traces(line=dict(width=2), selector=dict(name=\"Czech Republic\"))\n",
    "\n",
    "# Apply principles from \"Storytelling With Data\" by focusing on Czech Republic\n",
    "# - We have already highlighted the Czech Republic line.\n",
    "# - The axis labels, title, and the grid are provided by plotly by default and are clear and intuitive.\n",
    "# - The graph is kept simple without too much clutter.\n",
    "\n",
    "# Add the source of the prediction\n",
    "fig.add_annotation(text=\"Source: statista.com\",\n",
    "                  xref=\"paper\", yref=\"paper\",\n",
    "                  x=0.95, y=-0.2, showarrow=False)\n",
    "\n",
    "fig.show()\n"
   ]
  }
 ],
 "metadata": {
  "kernelspec": {
   "display_name": "Python 3",
   "language": "python",
   "name": "python3"
  },
  "language_info": {
   "codemirror_mode": {
    "name": "ipython",
    "version": 3
   },
   "file_extension": ".py",
   "mimetype": "text/x-python",
   "name": "python",
   "nbconvert_exporter": "python",
   "pygments_lexer": "ipython3",
   "version": "3.10.11"
  }
 },
 "nbformat": 4,
 "nbformat_minor": 2
}
